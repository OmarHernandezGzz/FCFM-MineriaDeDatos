{
  "nbformat": 4,
  "nbformat_minor": 0,
  "metadata": {
    "colab": {
      "name": "Avance1_PIA_Equipo7.ipynb",
      "provenance": [],
      "collapsed_sections": [],
      "include_colab_link": true
    },
    "kernelspec": {
      "name": "python3",
      "display_name": "Python 3"
    },
    "language_info": {
      "name": "python"
    }
  },
  "cells": [
    {
      "cell_type": "markdown",
      "metadata": {
        "id": "view-in-github",
        "colab_type": "text"
      },
      "source": [
        "<a href=\"https://colab.research.google.com/github/OmarHernandezGzz/FCFM-MineriaDeDatos/blob/main/Avance1_PIA_Equipo7.ipynb\" target=\"_parent\"><img src=\"https://colab.research.google.com/assets/colab-badge.svg\" alt=\"Open In Colab\"/></a>"
      ]
    },
    {
      "cell_type": "markdown",
      "metadata": {
        "id": "LfvxnC4vtwDu"
      },
      "source": [
        "* **EQUIPO #7**\n",
        "* **Grupo:** 001 , Lunes(7:00-10:00)\n",
        "* **Integrantes:** \n",
        " * 1853256  Trejo Rodriguez Adriana Jackeline\n",
        " * 1848627 Villegas Kane Aaron\n",
        " * 1866054 Pasillas Moreno Jesus\n",
        " * 1855060 Salazar Narvaez Daniela\n",
        " * 1850325 Hernandez Gonzalez Omar\n"
      ]
    },
    {
      "cell_type": "markdown",
      "metadata": {
        "id": "biz8A4j4m1PQ"
      },
      "source": [
        "---\n",
        "**BASE PRINCIPAL**"
      ]
    },
    {
      "cell_type": "markdown",
      "metadata": {
        "id": "NXaXjAZixlQM"
      },
      "source": [
        "**Heart Failure Prediction**: https://www.kaggle.com/andrewmvd/heart-failure-clinical-data "
      ]
    },
    {
      "cell_type": "markdown",
      "metadata": {
        "id": "DxPx2tVkySkU"
      },
      "source": [
        "**2a) Realizar una descripcion sobre el tema donde se desarrolla su base de datos**"
      ]
    },
    {
      "cell_type": "markdown",
      "metadata": {
        "id": "imfnB49-yXXq"
      },
      "source": [
        "La insuficiencia cardíaca en un evento que es causado por las enfermedades cardiovasculares, las cuales son la principal causa de muerte en el mundo desde el año 2000 hasta el 2020, ultimo año regristrado según la OMS, estas enfermedades representan problemas en el corazón y los vasos sanguíneos, pero estas enfermedades pueden ser prevenidas o controladas con ayuda de un estudio sobre los factores que llevan a complicar dichas enfermedades, por lo que la exploracion de estos datos pueden representar una gota de esperanza para muchas personas."
      ]
    },
    {
      "cell_type": "markdown",
      "metadata": {
        "id": "obKUybcQV5sh"
      },
      "source": [
        "**3a) Que tipo de datos son**"
      ]
    },
    {
      "cell_type": "markdown",
      "metadata": {
        "id": "hh6Mjpm3s7B3"
      },
      "source": [
        "Los datos recolectados vienen expuestos en forma de tablas y gráficas"
      ]
    },
    {
      "cell_type": "markdown",
      "metadata": {
        "id": "N-HenZDcqt0n"
      },
      "source": [
        "**3b) Descripcion de las columnas**"
      ]
    },
    {
      "cell_type": "markdown",
      "metadata": {
        "id": "Sz7BtRdmrG-W"
      },
      "source": [
        "**age** - Numeros enteros\n",
        "\n",
        "**anaemia** - Boolenos\n",
        "\n",
        "**creatinine_phosphokinase** - mcg/L\n",
        "\n",
        "**diabetes** - Booleanos\n",
        "\n",
        "**ejection_fraction** - Porcentaje\n",
        "\n",
        "**high_blood_pressure** - Boleanos\n",
        "\n",
        "**platelets** - kiloplatelets/mL\n",
        "\n",
        "**serum_creatinine** - mg/dL\n",
        "\n",
        "**serum_sodium** - mEq/L\n",
        "\n",
        "**sex** - Binario\n",
        "\n",
        "**smoking** - Booleano\n",
        "\n",
        "**time** - Numeros enteros (Dias)\n",
        "\n",
        "**DEATH_EVENT** - Booleano "
      ]
    },
    {
      "cell_type": "markdown",
      "metadata": {
        "id": "HnMz7unjRUQ5"
      },
      "source": [
        "**4a) Caracteristicas que nos llamaron la atención**"
      ]
    },
    {
      "cell_type": "markdown",
      "metadata": {
        "id": "o_9epP6aR_Pk"
      },
      "source": [
        "Lo que nos llamó la atención, principalmente, fue que la muerte por enfermedades cardiovasculares es la causa de muerte más común en el mundo; por lo que poder predecir que personas son más susceptibles fue bastante intersante.\n",
        "\n",
        "Otra característica cautivadora, es también ver bajo que causas una persona con buenos hábitos puede padecer problemas cardiovascualres y, en su contraparte, que una persona con malos hábitos saludables no, ya que esta base de datos tiene un gran numero de variables con las podemos trabajar y creemos que tienen un gran potencial para poder lograr un trabajo interesante y efectivo."
      ]
    },
    {
      "cell_type": "markdown",
      "metadata": {
        "id": "-qlQdjpDRkwW"
      },
      "source": [
        "**4b) Beneficio de trabajar con estos datos**"
      ]
    },
    {
      "cell_type": "markdown",
      "metadata": {
        "id": "X67TLyd7TOvX"
      },
      "source": [
        "Primeramente nos brindará experiencia en como predecir ciertos eventos, o qué camino podrían llegar a tomar. Algunos otros beneficios serían el agrupamiento de los datos y la relevancia de estos, ver qué datos son más importantes y bajo qué condiciones, hablando mas concretamente de este tema podemos ver que el trabajar con estos datos nos puede llevar a pensar un poco mas sobre el gran impacto que tienen las enfermedades cardiovasculares."
      ]
    },
    {
      "cell_type": "markdown",
      "metadata": {
        "id": "0xHMJrbEUFab"
      },
      "source": [
        "**5a) Objetivo principal (y secundarios en caso de existir)**"
      ]
    },
    {
      "cell_type": "markdown",
      "metadata": {
        "id": "jRrT1K8rUZZK"
      },
      "source": [
        "Analizar los datos cuidadosamente y poder predecir que pacientes están cercanos a padecer problemas cardiovascular y que tan cerca, asi como los factores mas relacionados a padecer estos problemas asi como los factores menos significativos. "
      ]
    },
    {
      "cell_type": "markdown",
      "metadata": {
        "id": "OI2AROAPUQvO"
      },
      "source": [
        "**6a) Preguntas de interés**"
      ]
    },
    {
      "cell_type": "markdown",
      "metadata": {
        "id": "63hqJabgO4Qy"
      },
      "source": [
        "\n",
        "\n",
        "*   ¿En que poblacion es mas común la alta presion, hombres o mujeres?\n",
        "\n",
        "\n",
        "*   ¿Qué porcentaje de hombres y de mujeres mueren por cualquiera de los factores de riesgo? \n",
        "\n",
        "*   ¿Cuál es el factor que, combinado con los demás termina en la muerte para la mayor cantidad de individuos, ya sean hombres o mujeres?\n",
        "\n",
        "\n",
        "*   ¿Entre que edades es más común tener hipertensión?\n",
        "\n",
        "*   ¿Qué porcentaje de personas logran superar la(s) enfermedad(es) , y que enfermedad(es) padecían?\n",
        "\n",
        "\n",
        "\n",
        "\n",
        "\n",
        "\n",
        "\n"
      ]
    },
    {
      "cell_type": "markdown",
      "metadata": {
        "id": "B-qSbFyjPW5o"
      },
      "source": [
        "**7.- Parte de programacion**\n"
      ]
    },
    {
      "cell_type": "code",
      "metadata": {
        "id": "8gLOQIJWR43T"
      },
      "source": [
        "#a) Importar librerias y base de datos\n",
        "import pandas as pd\n",
        "import numpy as np\n",
        "import json\n",
        "heart = pd.read_csv(\"heart_failure_clinical_records_dataset.csv\")"
      ],
      "execution_count": null,
      "outputs": []
    },
    {
      "cell_type": "markdown",
      "metadata": {
        "id": "ulK95rg1TYdB"
      },
      "source": [
        "Aqui importamos la base de datos con la que trabajaremos."
      ]
    },
    {
      "cell_type": "code",
      "metadata": {
        "colab": {
          "base_uri": "https://localhost:8080/"
        },
        "id": "PTqbwXqRTgmv",
        "outputId": "dcf4811a-b8c6-4eba-ccc7-a2e5acba7060"
      },
      "source": [
        "#b) Visualizar los datos\n",
        "heart.shape "
      ],
      "execution_count": null,
      "outputs": [
        {
          "output_type": "execute_result",
          "data": {
            "text/plain": [
              "(299, 13)"
            ]
          },
          "metadata": {},
          "execution_count": 20
        }
      ]
    },
    {
      "cell_type": "markdown",
      "metadata": {
        "id": "rRxcDwO-TjAl"
      },
      "source": [
        "Esta funcion nos dice cuantas filas y columnas tiene nuestra base de datos. \n"
      ]
    },
    {
      "cell_type": "code",
      "metadata": {
        "colab": {
          "base_uri": "https://localhost:8080/",
          "height": 162
        },
        "id": "ZtWi_YU6VyWo",
        "outputId": "e9b49f78-b284-4b7a-f234-24c8dfaf5797"
      },
      "source": [
        "heart.head(3)"
      ],
      "execution_count": null,
      "outputs": [
        {
          "output_type": "execute_result",
          "data": {
            "text/html": [
              "<div>\n",
              "<style scoped>\n",
              "    .dataframe tbody tr th:only-of-type {\n",
              "        vertical-align: middle;\n",
              "    }\n",
              "\n",
              "    .dataframe tbody tr th {\n",
              "        vertical-align: top;\n",
              "    }\n",
              "\n",
              "    .dataframe thead th {\n",
              "        text-align: right;\n",
              "    }\n",
              "</style>\n",
              "<table border=\"1\" class=\"dataframe\">\n",
              "  <thead>\n",
              "    <tr style=\"text-align: right;\">\n",
              "      <th></th>\n",
              "      <th>age</th>\n",
              "      <th>anaemia</th>\n",
              "      <th>creatinine_phosphokinase</th>\n",
              "      <th>diabetes</th>\n",
              "      <th>ejection_fraction</th>\n",
              "      <th>high_blood_pressure</th>\n",
              "      <th>platelets</th>\n",
              "      <th>serum_creatinine</th>\n",
              "      <th>serum_sodium</th>\n",
              "      <th>sex</th>\n",
              "      <th>smoking</th>\n",
              "      <th>time</th>\n",
              "      <th>DEATH_EVENT</th>\n",
              "    </tr>\n",
              "  </thead>\n",
              "  <tbody>\n",
              "    <tr>\n",
              "      <th>0</th>\n",
              "      <td>75.0</td>\n",
              "      <td>0</td>\n",
              "      <td>582</td>\n",
              "      <td>0</td>\n",
              "      <td>20</td>\n",
              "      <td>1</td>\n",
              "      <td>265000.00</td>\n",
              "      <td>1.9</td>\n",
              "      <td>130</td>\n",
              "      <td>1</td>\n",
              "      <td>0</td>\n",
              "      <td>4</td>\n",
              "      <td>1</td>\n",
              "    </tr>\n",
              "    <tr>\n",
              "      <th>1</th>\n",
              "      <td>55.0</td>\n",
              "      <td>0</td>\n",
              "      <td>7861</td>\n",
              "      <td>0</td>\n",
              "      <td>38</td>\n",
              "      <td>0</td>\n",
              "      <td>263358.03</td>\n",
              "      <td>1.1</td>\n",
              "      <td>136</td>\n",
              "      <td>1</td>\n",
              "      <td>0</td>\n",
              "      <td>6</td>\n",
              "      <td>1</td>\n",
              "    </tr>\n",
              "    <tr>\n",
              "      <th>2</th>\n",
              "      <td>65.0</td>\n",
              "      <td>0</td>\n",
              "      <td>146</td>\n",
              "      <td>0</td>\n",
              "      <td>20</td>\n",
              "      <td>0</td>\n",
              "      <td>162000.00</td>\n",
              "      <td>1.3</td>\n",
              "      <td>129</td>\n",
              "      <td>1</td>\n",
              "      <td>1</td>\n",
              "      <td>7</td>\n",
              "      <td>1</td>\n",
              "    </tr>\n",
              "  </tbody>\n",
              "</table>\n",
              "</div>"
            ],
            "text/plain": [
              "    age  anaemia  creatinine_phosphokinase  ...  smoking  time  DEATH_EVENT\n",
              "0  75.0        0                       582  ...        0     4            1\n",
              "1  55.0        0                      7861  ...        0     6            1\n",
              "2  65.0        0                       146  ...        1     7            1\n",
              "\n",
              "[3 rows x 13 columns]"
            ]
          },
          "metadata": {},
          "execution_count": 21
        }
      ]
    },
    {
      "cell_type": "code",
      "metadata": {
        "colab": {
          "base_uri": "https://localhost:8080/",
          "height": 162
        },
        "id": "T4DYIbyhW3Fd",
        "outputId": "1068621a-5c34-455b-930d-b659ffa379e6"
      },
      "source": [
        "heart.tail(3)"
      ],
      "execution_count": null,
      "outputs": [
        {
          "output_type": "execute_result",
          "data": {
            "text/html": [
              "<div>\n",
              "<style scoped>\n",
              "    .dataframe tbody tr th:only-of-type {\n",
              "        vertical-align: middle;\n",
              "    }\n",
              "\n",
              "    .dataframe tbody tr th {\n",
              "        vertical-align: top;\n",
              "    }\n",
              "\n",
              "    .dataframe thead th {\n",
              "        text-align: right;\n",
              "    }\n",
              "</style>\n",
              "<table border=\"1\" class=\"dataframe\">\n",
              "  <thead>\n",
              "    <tr style=\"text-align: right;\">\n",
              "      <th></th>\n",
              "      <th>age</th>\n",
              "      <th>anaemia</th>\n",
              "      <th>creatinine_phosphokinase</th>\n",
              "      <th>diabetes</th>\n",
              "      <th>ejection_fraction</th>\n",
              "      <th>high_blood_pressure</th>\n",
              "      <th>platelets</th>\n",
              "      <th>serum_creatinine</th>\n",
              "      <th>serum_sodium</th>\n",
              "      <th>sex</th>\n",
              "      <th>smoking</th>\n",
              "      <th>time</th>\n",
              "      <th>DEATH_EVENT</th>\n",
              "    </tr>\n",
              "  </thead>\n",
              "  <tbody>\n",
              "    <tr>\n",
              "      <th>296</th>\n",
              "      <td>45.0</td>\n",
              "      <td>0</td>\n",
              "      <td>2060</td>\n",
              "      <td>1</td>\n",
              "      <td>60</td>\n",
              "      <td>0</td>\n",
              "      <td>742000.0</td>\n",
              "      <td>0.8</td>\n",
              "      <td>138</td>\n",
              "      <td>0</td>\n",
              "      <td>0</td>\n",
              "      <td>278</td>\n",
              "      <td>0</td>\n",
              "    </tr>\n",
              "    <tr>\n",
              "      <th>297</th>\n",
              "      <td>45.0</td>\n",
              "      <td>0</td>\n",
              "      <td>2413</td>\n",
              "      <td>0</td>\n",
              "      <td>38</td>\n",
              "      <td>0</td>\n",
              "      <td>140000.0</td>\n",
              "      <td>1.4</td>\n",
              "      <td>140</td>\n",
              "      <td>1</td>\n",
              "      <td>1</td>\n",
              "      <td>280</td>\n",
              "      <td>0</td>\n",
              "    </tr>\n",
              "    <tr>\n",
              "      <th>298</th>\n",
              "      <td>50.0</td>\n",
              "      <td>0</td>\n",
              "      <td>196</td>\n",
              "      <td>0</td>\n",
              "      <td>45</td>\n",
              "      <td>0</td>\n",
              "      <td>395000.0</td>\n",
              "      <td>1.6</td>\n",
              "      <td>136</td>\n",
              "      <td>1</td>\n",
              "      <td>1</td>\n",
              "      <td>285</td>\n",
              "      <td>0</td>\n",
              "    </tr>\n",
              "  </tbody>\n",
              "</table>\n",
              "</div>"
            ],
            "text/plain": [
              "      age  anaemia  creatinine_phosphokinase  ...  smoking  time  DEATH_EVENT\n",
              "296  45.0        0                      2060  ...        0   278            0\n",
              "297  45.0        0                      2413  ...        1   280            0\n",
              "298  50.0        0                       196  ...        1   285            0\n",
              "\n",
              "[3 rows x 13 columns]"
            ]
          },
          "metadata": {},
          "execution_count": 22
        }
      ]
    },
    {
      "cell_type": "markdown",
      "metadata": {
        "id": "RYtxl5SmWyNq"
      },
      "source": [
        "Estas funciones te muestras los primeros 3 y los ultimos 3 datos de la base de datos respectivamente."
      ]
    },
    {
      "cell_type": "code",
      "metadata": {
        "colab": {
          "base_uri": "https://localhost:8080/"
        },
        "id": "AaJ5JogBXKr1",
        "outputId": "5d612d99-0dfe-4451-c60f-18de7606bbe9"
      },
      "source": [
        "#c) Descripcion basica de columnas\n",
        "heart.columns"
      ],
      "execution_count": null,
      "outputs": [
        {
          "output_type": "execute_result",
          "data": {
            "text/plain": [
              "Index(['age', 'anaemia', 'creatinine_phosphokinase', 'diabetes',\n",
              "       'ejection_fraction', 'high_blood_pressure', 'platelets',\n",
              "       'serum_creatinine', 'serum_sodium', 'sex', 'smoking', 'time',\n",
              "       'DEATH_EVENT'],\n",
              "      dtype='object')"
            ]
          },
          "metadata": {},
          "execution_count": 23
        }
      ]
    },
    {
      "cell_type": "markdown",
      "metadata": {
        "id": "IaaUayM8Xdv0"
      },
      "source": [
        "Esta funcion nos ayuda a saber el nombre de las columnas de nuestra base de datos."
      ]
    },
    {
      "cell_type": "code",
      "metadata": {
        "colab": {
          "base_uri": "https://localhost:8080/"
        },
        "id": "UaiooBlTXm0q",
        "outputId": "17a58c3a-0189-49e0-b7de-e7f8065d6bea"
      },
      "source": [
        "heart.dtypes"
      ],
      "execution_count": null,
      "outputs": [
        {
          "output_type": "execute_result",
          "data": {
            "text/plain": [
              "age                         float64\n",
              "anaemia                       int64\n",
              "creatinine_phosphokinase      int64\n",
              "diabetes                      int64\n",
              "ejection_fraction             int64\n",
              "high_blood_pressure           int64\n",
              "platelets                   float64\n",
              "serum_creatinine            float64\n",
              "serum_sodium                  int64\n",
              "sex                           int64\n",
              "smoking                       int64\n",
              "time                          int64\n",
              "DEATH_EVENT                   int64\n",
              "dtype: object"
            ]
          },
          "metadata": {},
          "execution_count": 24
        }
      ]
    },
    {
      "cell_type": "markdown",
      "metadata": {
        "id": "rRdV_Pd7d1Cy"
      },
      "source": [
        "Esta funcion nos muestra el tipo de dato que tienen los elementos de las columnas."
      ]
    },
    {
      "cell_type": "code",
      "metadata": {
        "colab": {
          "base_uri": "https://localhost:8080/"
        },
        "id": "5snSLly5hqaw",
        "outputId": "3ce0e77d-e9ff-4d80-c71b-1dfddf2825f3"
      },
      "source": [
        "heart.isnull().any() "
      ],
      "execution_count": null,
      "outputs": [
        {
          "output_type": "execute_result",
          "data": {
            "text/plain": [
              "age                         False\n",
              "anaemia                     False\n",
              "creatinine_phosphokinase    False\n",
              "diabetes                    False\n",
              "ejection_fraction           False\n",
              "high_blood_pressure         False\n",
              "platelets                   False\n",
              "serum_creatinine            False\n",
              "serum_sodium                False\n",
              "sex                         False\n",
              "smoking                     False\n",
              "time                        False\n",
              "DEATH_EVENT                 False\n",
              "dtype: bool"
            ]
          },
          "metadata": {},
          "execution_count": 25
        }
      ]
    },
    {
      "cell_type": "markdown",
      "metadata": {
        "id": "tE7QREpHiI6t"
      },
      "source": [
        "Esta funcion nos indica si en cierta columna hay celdas vacias o datos nulos. True para indicar que hay datos nulos y False para indicar que NO hay datos nulos."
      ]
    },
    {
      "cell_type": "code",
      "metadata": {
        "colab": {
          "base_uri": "https://localhost:8080/",
          "height": 439
        },
        "id": "NXDil1hLiY0h",
        "outputId": "892f471b-1cd3-4ed7-e4eb-564de31447ff"
      },
      "source": [
        "heart.isnull()"
      ],
      "execution_count": null,
      "outputs": [
        {
          "output_type": "execute_result",
          "data": {
            "text/html": [
              "<div>\n",
              "<style scoped>\n",
              "    .dataframe tbody tr th:only-of-type {\n",
              "        vertical-align: middle;\n",
              "    }\n",
              "\n",
              "    .dataframe tbody tr th {\n",
              "        vertical-align: top;\n",
              "    }\n",
              "\n",
              "    .dataframe thead th {\n",
              "        text-align: right;\n",
              "    }\n",
              "</style>\n",
              "<table border=\"1\" class=\"dataframe\">\n",
              "  <thead>\n",
              "    <tr style=\"text-align: right;\">\n",
              "      <th></th>\n",
              "      <th>age</th>\n",
              "      <th>anaemia</th>\n",
              "      <th>creatinine_phosphokinase</th>\n",
              "      <th>diabetes</th>\n",
              "      <th>ejection_fraction</th>\n",
              "      <th>high_blood_pressure</th>\n",
              "      <th>platelets</th>\n",
              "      <th>serum_creatinine</th>\n",
              "      <th>serum_sodium</th>\n",
              "      <th>sex</th>\n",
              "      <th>smoking</th>\n",
              "      <th>time</th>\n",
              "      <th>DEATH_EVENT</th>\n",
              "    </tr>\n",
              "  </thead>\n",
              "  <tbody>\n",
              "    <tr>\n",
              "      <th>0</th>\n",
              "      <td>False</td>\n",
              "      <td>False</td>\n",
              "      <td>False</td>\n",
              "      <td>False</td>\n",
              "      <td>False</td>\n",
              "      <td>False</td>\n",
              "      <td>False</td>\n",
              "      <td>False</td>\n",
              "      <td>False</td>\n",
              "      <td>False</td>\n",
              "      <td>False</td>\n",
              "      <td>False</td>\n",
              "      <td>False</td>\n",
              "    </tr>\n",
              "    <tr>\n",
              "      <th>1</th>\n",
              "      <td>False</td>\n",
              "      <td>False</td>\n",
              "      <td>False</td>\n",
              "      <td>False</td>\n",
              "      <td>False</td>\n",
              "      <td>False</td>\n",
              "      <td>False</td>\n",
              "      <td>False</td>\n",
              "      <td>False</td>\n",
              "      <td>False</td>\n",
              "      <td>False</td>\n",
              "      <td>False</td>\n",
              "      <td>False</td>\n",
              "    </tr>\n",
              "    <tr>\n",
              "      <th>2</th>\n",
              "      <td>False</td>\n",
              "      <td>False</td>\n",
              "      <td>False</td>\n",
              "      <td>False</td>\n",
              "      <td>False</td>\n",
              "      <td>False</td>\n",
              "      <td>False</td>\n",
              "      <td>False</td>\n",
              "      <td>False</td>\n",
              "      <td>False</td>\n",
              "      <td>False</td>\n",
              "      <td>False</td>\n",
              "      <td>False</td>\n",
              "    </tr>\n",
              "    <tr>\n",
              "      <th>3</th>\n",
              "      <td>False</td>\n",
              "      <td>False</td>\n",
              "      <td>False</td>\n",
              "      <td>False</td>\n",
              "      <td>False</td>\n",
              "      <td>False</td>\n",
              "      <td>False</td>\n",
              "      <td>False</td>\n",
              "      <td>False</td>\n",
              "      <td>False</td>\n",
              "      <td>False</td>\n",
              "      <td>False</td>\n",
              "      <td>False</td>\n",
              "    </tr>\n",
              "    <tr>\n",
              "      <th>4</th>\n",
              "      <td>False</td>\n",
              "      <td>False</td>\n",
              "      <td>False</td>\n",
              "      <td>False</td>\n",
              "      <td>False</td>\n",
              "      <td>False</td>\n",
              "      <td>False</td>\n",
              "      <td>False</td>\n",
              "      <td>False</td>\n",
              "      <td>False</td>\n",
              "      <td>False</td>\n",
              "      <td>False</td>\n",
              "      <td>False</td>\n",
              "    </tr>\n",
              "    <tr>\n",
              "      <th>...</th>\n",
              "      <td>...</td>\n",
              "      <td>...</td>\n",
              "      <td>...</td>\n",
              "      <td>...</td>\n",
              "      <td>...</td>\n",
              "      <td>...</td>\n",
              "      <td>...</td>\n",
              "      <td>...</td>\n",
              "      <td>...</td>\n",
              "      <td>...</td>\n",
              "      <td>...</td>\n",
              "      <td>...</td>\n",
              "      <td>...</td>\n",
              "    </tr>\n",
              "    <tr>\n",
              "      <th>294</th>\n",
              "      <td>False</td>\n",
              "      <td>False</td>\n",
              "      <td>False</td>\n",
              "      <td>False</td>\n",
              "      <td>False</td>\n",
              "      <td>False</td>\n",
              "      <td>False</td>\n",
              "      <td>False</td>\n",
              "      <td>False</td>\n",
              "      <td>False</td>\n",
              "      <td>False</td>\n",
              "      <td>False</td>\n",
              "      <td>False</td>\n",
              "    </tr>\n",
              "    <tr>\n",
              "      <th>295</th>\n",
              "      <td>False</td>\n",
              "      <td>False</td>\n",
              "      <td>False</td>\n",
              "      <td>False</td>\n",
              "      <td>False</td>\n",
              "      <td>False</td>\n",
              "      <td>False</td>\n",
              "      <td>False</td>\n",
              "      <td>False</td>\n",
              "      <td>False</td>\n",
              "      <td>False</td>\n",
              "      <td>False</td>\n",
              "      <td>False</td>\n",
              "    </tr>\n",
              "    <tr>\n",
              "      <th>296</th>\n",
              "      <td>False</td>\n",
              "      <td>False</td>\n",
              "      <td>False</td>\n",
              "      <td>False</td>\n",
              "      <td>False</td>\n",
              "      <td>False</td>\n",
              "      <td>False</td>\n",
              "      <td>False</td>\n",
              "      <td>False</td>\n",
              "      <td>False</td>\n",
              "      <td>False</td>\n",
              "      <td>False</td>\n",
              "      <td>False</td>\n",
              "    </tr>\n",
              "    <tr>\n",
              "      <th>297</th>\n",
              "      <td>False</td>\n",
              "      <td>False</td>\n",
              "      <td>False</td>\n",
              "      <td>False</td>\n",
              "      <td>False</td>\n",
              "      <td>False</td>\n",
              "      <td>False</td>\n",
              "      <td>False</td>\n",
              "      <td>False</td>\n",
              "      <td>False</td>\n",
              "      <td>False</td>\n",
              "      <td>False</td>\n",
              "      <td>False</td>\n",
              "    </tr>\n",
              "    <tr>\n",
              "      <th>298</th>\n",
              "      <td>False</td>\n",
              "      <td>False</td>\n",
              "      <td>False</td>\n",
              "      <td>False</td>\n",
              "      <td>False</td>\n",
              "      <td>False</td>\n",
              "      <td>False</td>\n",
              "      <td>False</td>\n",
              "      <td>False</td>\n",
              "      <td>False</td>\n",
              "      <td>False</td>\n",
              "      <td>False</td>\n",
              "      <td>False</td>\n",
              "    </tr>\n",
              "  </tbody>\n",
              "</table>\n",
              "<p>299 rows × 13 columns</p>\n",
              "</div>"
            ],
            "text/plain": [
              "       age  anaemia  creatinine_phosphokinase  ...  smoking   time  DEATH_EVENT\n",
              "0    False    False                     False  ...    False  False        False\n",
              "1    False    False                     False  ...    False  False        False\n",
              "2    False    False                     False  ...    False  False        False\n",
              "3    False    False                     False  ...    False  False        False\n",
              "4    False    False                     False  ...    False  False        False\n",
              "..     ...      ...                       ...  ...      ...    ...          ...\n",
              "294  False    False                     False  ...    False  False        False\n",
              "295  False    False                     False  ...    False  False        False\n",
              "296  False    False                     False  ...    False  False        False\n",
              "297  False    False                     False  ...    False  False        False\n",
              "298  False    False                     False  ...    False  False        False\n",
              "\n",
              "[299 rows x 13 columns]"
            ]
          },
          "metadata": {},
          "execution_count": 26
        }
      ]
    },
    {
      "cell_type": "markdown",
      "metadata": {
        "id": "yrxA1gtqixY4"
      },
      "source": [
        "Esta funcion nos arroja la misma base de datos pero llena de datos boleanos y estos nos indican donde estan las celdas vacias y en donde si hay datos."
      ]
    },
    {
      "cell_type": "code",
      "metadata": {
        "colab": {
          "base_uri": "https://localhost:8080/"
        },
        "id": "Gt62f8LujHh8",
        "outputId": "8ffdf707-8796-4c03-be42-ca11ba3a0a7c"
      },
      "source": [
        "heart.isnull().sum()"
      ],
      "execution_count": null,
      "outputs": [
        {
          "output_type": "execute_result",
          "data": {
            "text/plain": [
              "age                         0\n",
              "anaemia                     0\n",
              "creatinine_phosphokinase    0\n",
              "diabetes                    0\n",
              "ejection_fraction           0\n",
              "high_blood_pressure         0\n",
              "platelets                   0\n",
              "serum_creatinine            0\n",
              "serum_sodium                0\n",
              "sex                         0\n",
              "smoking                     0\n",
              "time                        0\n",
              "DEATH_EVENT                 0\n",
              "dtype: int64"
            ]
          },
          "metadata": {},
          "execution_count": 27
        }
      ]
    },
    {
      "cell_type": "markdown",
      "metadata": {
        "id": "pJovjV1VjNeL"
      },
      "source": [
        "Esta funcion nos ayuda a saber cuantos datos nulos o celdas vacias hay en cada columna de nuestra base. Aqui nos podemos dar cuenta de la base de datos con la que trabajaremos no contiene datos nulos en ninguna de sus columnas."
      ]
    },
    {
      "cell_type": "code",
      "metadata": {
        "id": "AckIErFjyRj3"
      },
      "source": [
        "#del base[]"
      ],
      "execution_count": null,
      "outputs": []
    },
    {
      "cell_type": "markdown",
      "metadata": {
        "id": "ao8mKvyqy6IN"
      },
      "source": [
        "La función de arriba nos sirve para eliminar las columnas que no nos van a servir. En este caso creemos que todas las columnas de nuestra base son de gran utilidad para nuestro analisis."
      ]
    },
    {
      "cell_type": "code",
      "metadata": {
        "colab": {
          "base_uri": "https://localhost:8080/",
          "height": 439
        },
        "id": "36_DPHitsWI0",
        "outputId": "77bdca1d-5a6c-41f0-8c6f-c9a9f9bdb7db"
      },
      "source": [
        "#d)Clasificación de datos\n",
        "Fallecidos = heart[heart['DEATH_EVENT']==1]\n",
        "\n",
        "Fallecidos.to_csv('Solo_Fallecidos.csv', index = False)\n",
        "Fallecidos"
      ],
      "execution_count": null,
      "outputs": [
        {
          "output_type": "execute_result",
          "data": {
            "text/html": [
              "<div>\n",
              "<style scoped>\n",
              "    .dataframe tbody tr th:only-of-type {\n",
              "        vertical-align: middle;\n",
              "    }\n",
              "\n",
              "    .dataframe tbody tr th {\n",
              "        vertical-align: top;\n",
              "    }\n",
              "\n",
              "    .dataframe thead th {\n",
              "        text-align: right;\n",
              "    }\n",
              "</style>\n",
              "<table border=\"1\" class=\"dataframe\">\n",
              "  <thead>\n",
              "    <tr style=\"text-align: right;\">\n",
              "      <th></th>\n",
              "      <th>age</th>\n",
              "      <th>anaemia</th>\n",
              "      <th>creatinine_phosphokinase</th>\n",
              "      <th>diabetes</th>\n",
              "      <th>ejection_fraction</th>\n",
              "      <th>high_blood_pressure</th>\n",
              "      <th>platelets</th>\n",
              "      <th>serum_creatinine</th>\n",
              "      <th>serum_sodium</th>\n",
              "      <th>sex</th>\n",
              "      <th>smoking</th>\n",
              "      <th>time</th>\n",
              "      <th>DEATH_EVENT</th>\n",
              "    </tr>\n",
              "  </thead>\n",
              "  <tbody>\n",
              "    <tr>\n",
              "      <th>0</th>\n",
              "      <td>75.0</td>\n",
              "      <td>0</td>\n",
              "      <td>582</td>\n",
              "      <td>0</td>\n",
              "      <td>20</td>\n",
              "      <td>1</td>\n",
              "      <td>265000.00</td>\n",
              "      <td>1.90</td>\n",
              "      <td>130</td>\n",
              "      <td>1</td>\n",
              "      <td>0</td>\n",
              "      <td>4</td>\n",
              "      <td>1</td>\n",
              "    </tr>\n",
              "    <tr>\n",
              "      <th>1</th>\n",
              "      <td>55.0</td>\n",
              "      <td>0</td>\n",
              "      <td>7861</td>\n",
              "      <td>0</td>\n",
              "      <td>38</td>\n",
              "      <td>0</td>\n",
              "      <td>263358.03</td>\n",
              "      <td>1.10</td>\n",
              "      <td>136</td>\n",
              "      <td>1</td>\n",
              "      <td>0</td>\n",
              "      <td>6</td>\n",
              "      <td>1</td>\n",
              "    </tr>\n",
              "    <tr>\n",
              "      <th>2</th>\n",
              "      <td>65.0</td>\n",
              "      <td>0</td>\n",
              "      <td>146</td>\n",
              "      <td>0</td>\n",
              "      <td>20</td>\n",
              "      <td>0</td>\n",
              "      <td>162000.00</td>\n",
              "      <td>1.30</td>\n",
              "      <td>129</td>\n",
              "      <td>1</td>\n",
              "      <td>1</td>\n",
              "      <td>7</td>\n",
              "      <td>1</td>\n",
              "    </tr>\n",
              "    <tr>\n",
              "      <th>3</th>\n",
              "      <td>50.0</td>\n",
              "      <td>1</td>\n",
              "      <td>111</td>\n",
              "      <td>0</td>\n",
              "      <td>20</td>\n",
              "      <td>0</td>\n",
              "      <td>210000.00</td>\n",
              "      <td>1.90</td>\n",
              "      <td>137</td>\n",
              "      <td>1</td>\n",
              "      <td>0</td>\n",
              "      <td>7</td>\n",
              "      <td>1</td>\n",
              "    </tr>\n",
              "    <tr>\n",
              "      <th>4</th>\n",
              "      <td>65.0</td>\n",
              "      <td>1</td>\n",
              "      <td>160</td>\n",
              "      <td>1</td>\n",
              "      <td>20</td>\n",
              "      <td>0</td>\n",
              "      <td>327000.00</td>\n",
              "      <td>2.70</td>\n",
              "      <td>116</td>\n",
              "      <td>0</td>\n",
              "      <td>0</td>\n",
              "      <td>8</td>\n",
              "      <td>1</td>\n",
              "    </tr>\n",
              "    <tr>\n",
              "      <th>...</th>\n",
              "      <td>...</td>\n",
              "      <td>...</td>\n",
              "      <td>...</td>\n",
              "      <td>...</td>\n",
              "      <td>...</td>\n",
              "      <td>...</td>\n",
              "      <td>...</td>\n",
              "      <td>...</td>\n",
              "      <td>...</td>\n",
              "      <td>...</td>\n",
              "      <td>...</td>\n",
              "      <td>...</td>\n",
              "      <td>...</td>\n",
              "    </tr>\n",
              "    <tr>\n",
              "      <th>220</th>\n",
              "      <td>73.0</td>\n",
              "      <td>0</td>\n",
              "      <td>582</td>\n",
              "      <td>0</td>\n",
              "      <td>20</td>\n",
              "      <td>0</td>\n",
              "      <td>263358.03</td>\n",
              "      <td>1.83</td>\n",
              "      <td>134</td>\n",
              "      <td>1</td>\n",
              "      <td>0</td>\n",
              "      <td>198</td>\n",
              "      <td>1</td>\n",
              "    </tr>\n",
              "    <tr>\n",
              "      <th>230</th>\n",
              "      <td>60.0</td>\n",
              "      <td>0</td>\n",
              "      <td>166</td>\n",
              "      <td>0</td>\n",
              "      <td>30</td>\n",
              "      <td>0</td>\n",
              "      <td>62000.00</td>\n",
              "      <td>1.70</td>\n",
              "      <td>127</td>\n",
              "      <td>0</td>\n",
              "      <td>0</td>\n",
              "      <td>207</td>\n",
              "      <td>1</td>\n",
              "    </tr>\n",
              "    <tr>\n",
              "      <th>246</th>\n",
              "      <td>55.0</td>\n",
              "      <td>0</td>\n",
              "      <td>2017</td>\n",
              "      <td>0</td>\n",
              "      <td>25</td>\n",
              "      <td>0</td>\n",
              "      <td>314000.00</td>\n",
              "      <td>1.10</td>\n",
              "      <td>138</td>\n",
              "      <td>1</td>\n",
              "      <td>0</td>\n",
              "      <td>214</td>\n",
              "      <td>1</td>\n",
              "    </tr>\n",
              "    <tr>\n",
              "      <th>262</th>\n",
              "      <td>65.0</td>\n",
              "      <td>1</td>\n",
              "      <td>258</td>\n",
              "      <td>1</td>\n",
              "      <td>25</td>\n",
              "      <td>0</td>\n",
              "      <td>198000.00</td>\n",
              "      <td>1.40</td>\n",
              "      <td>129</td>\n",
              "      <td>1</td>\n",
              "      <td>0</td>\n",
              "      <td>235</td>\n",
              "      <td>1</td>\n",
              "    </tr>\n",
              "    <tr>\n",
              "      <th>266</th>\n",
              "      <td>55.0</td>\n",
              "      <td>0</td>\n",
              "      <td>1199</td>\n",
              "      <td>0</td>\n",
              "      <td>20</td>\n",
              "      <td>0</td>\n",
              "      <td>263358.03</td>\n",
              "      <td>1.83</td>\n",
              "      <td>134</td>\n",
              "      <td>1</td>\n",
              "      <td>1</td>\n",
              "      <td>241</td>\n",
              "      <td>1</td>\n",
              "    </tr>\n",
              "  </tbody>\n",
              "</table>\n",
              "<p>96 rows × 13 columns</p>\n",
              "</div>"
            ],
            "text/plain": [
              "      age  anaemia  creatinine_phosphokinase  ...  smoking  time  DEATH_EVENT\n",
              "0    75.0        0                       582  ...        0     4            1\n",
              "1    55.0        0                      7861  ...        0     6            1\n",
              "2    65.0        0                       146  ...        1     7            1\n",
              "3    50.0        1                       111  ...        0     7            1\n",
              "4    65.0        1                       160  ...        0     8            1\n",
              "..    ...      ...                       ...  ...      ...   ...          ...\n",
              "220  73.0        0                       582  ...        0   198            1\n",
              "230  60.0        0                       166  ...        0   207            1\n",
              "246  55.0        0                      2017  ...        0   214            1\n",
              "262  65.0        1                       258  ...        0   235            1\n",
              "266  55.0        0                      1199  ...        1   241            1\n",
              "\n",
              "[96 rows x 13 columns]"
            ]
          },
          "metadata": {},
          "execution_count": 29
        }
      ]
    },
    {
      "cell_type": "markdown",
      "metadata": {
        "id": "vLCHdwM-wlkk"
      },
      "source": [
        "Con este código clasificamos los datos para que solo nos muestre las personas fallecidas en el estudio."
      ]
    },
    {
      "cell_type": "code",
      "metadata": {
        "colab": {
          "base_uri": "https://localhost:8080/",
          "height": 286
        },
        "id": "zQ3BRZqxw0Bb",
        "outputId": "9877350f-687a-4f42-91c5-3e02d274577b"
      },
      "source": [
        "Edad= heart[heart['age']==40]\n",
        "\n",
        "Edad.to_csv('Solo_jovenes.csv', index = False)\n",
        "Edad"
      ],
      "execution_count": null,
      "outputs": [
        {
          "output_type": "execute_result",
          "data": {
            "text/html": [
              "<div>\n",
              "<style scoped>\n",
              "    .dataframe tbody tr th:only-of-type {\n",
              "        vertical-align: middle;\n",
              "    }\n",
              "\n",
              "    .dataframe tbody tr th {\n",
              "        vertical-align: top;\n",
              "    }\n",
              "\n",
              "    .dataframe thead th {\n",
              "        text-align: right;\n",
              "    }\n",
              "</style>\n",
              "<table border=\"1\" class=\"dataframe\">\n",
              "  <thead>\n",
              "    <tr style=\"text-align: right;\">\n",
              "      <th></th>\n",
              "      <th>age</th>\n",
              "      <th>anaemia</th>\n",
              "      <th>creatinine_phosphokinase</th>\n",
              "      <th>diabetes</th>\n",
              "      <th>ejection_fraction</th>\n",
              "      <th>high_blood_pressure</th>\n",
              "      <th>platelets</th>\n",
              "      <th>serum_creatinine</th>\n",
              "      <th>serum_sodium</th>\n",
              "      <th>sex</th>\n",
              "      <th>smoking</th>\n",
              "      <th>time</th>\n",
              "      <th>DEATH_EVENT</th>\n",
              "    </tr>\n",
              "  </thead>\n",
              "  <tbody>\n",
              "    <tr>\n",
              "      <th>180</th>\n",
              "      <td>40.0</td>\n",
              "      <td>0</td>\n",
              "      <td>478</td>\n",
              "      <td>1</td>\n",
              "      <td>30</td>\n",
              "      <td>0</td>\n",
              "      <td>303000.0</td>\n",
              "      <td>0.9</td>\n",
              "      <td>136</td>\n",
              "      <td>1</td>\n",
              "      <td>0</td>\n",
              "      <td>148</td>\n",
              "      <td>0</td>\n",
              "    </tr>\n",
              "    <tr>\n",
              "      <th>189</th>\n",
              "      <td>40.0</td>\n",
              "      <td>0</td>\n",
              "      <td>244</td>\n",
              "      <td>0</td>\n",
              "      <td>45</td>\n",
              "      <td>1</td>\n",
              "      <td>275000.0</td>\n",
              "      <td>0.9</td>\n",
              "      <td>140</td>\n",
              "      <td>0</td>\n",
              "      <td>0</td>\n",
              "      <td>174</td>\n",
              "      <td>0</td>\n",
              "    </tr>\n",
              "    <tr>\n",
              "      <th>206</th>\n",
              "      <td>40.0</td>\n",
              "      <td>1</td>\n",
              "      <td>101</td>\n",
              "      <td>0</td>\n",
              "      <td>40</td>\n",
              "      <td>0</td>\n",
              "      <td>226000.0</td>\n",
              "      <td>0.8</td>\n",
              "      <td>141</td>\n",
              "      <td>0</td>\n",
              "      <td>0</td>\n",
              "      <td>187</td>\n",
              "      <td>0</td>\n",
              "    </tr>\n",
              "    <tr>\n",
              "      <th>232</th>\n",
              "      <td>40.0</td>\n",
              "      <td>1</td>\n",
              "      <td>129</td>\n",
              "      <td>0</td>\n",
              "      <td>35</td>\n",
              "      <td>0</td>\n",
              "      <td>255000.0</td>\n",
              "      <td>0.9</td>\n",
              "      <td>137</td>\n",
              "      <td>1</td>\n",
              "      <td>0</td>\n",
              "      <td>209</td>\n",
              "      <td>0</td>\n",
              "    </tr>\n",
              "    <tr>\n",
              "      <th>242</th>\n",
              "      <td>40.0</td>\n",
              "      <td>0</td>\n",
              "      <td>90</td>\n",
              "      <td>0</td>\n",
              "      <td>35</td>\n",
              "      <td>0</td>\n",
              "      <td>255000.0</td>\n",
              "      <td>1.1</td>\n",
              "      <td>136</td>\n",
              "      <td>1</td>\n",
              "      <td>1</td>\n",
              "      <td>212</td>\n",
              "      <td>0</td>\n",
              "    </tr>\n",
              "    <tr>\n",
              "      <th>248</th>\n",
              "      <td>40.0</td>\n",
              "      <td>0</td>\n",
              "      <td>624</td>\n",
              "      <td>0</td>\n",
              "      <td>35</td>\n",
              "      <td>0</td>\n",
              "      <td>301000.0</td>\n",
              "      <td>1.0</td>\n",
              "      <td>142</td>\n",
              "      <td>1</td>\n",
              "      <td>1</td>\n",
              "      <td>214</td>\n",
              "      <td>0</td>\n",
              "    </tr>\n",
              "    <tr>\n",
              "      <th>269</th>\n",
              "      <td>40.0</td>\n",
              "      <td>0</td>\n",
              "      <td>582</td>\n",
              "      <td>1</td>\n",
              "      <td>35</td>\n",
              "      <td>0</td>\n",
              "      <td>222000.0</td>\n",
              "      <td>1.0</td>\n",
              "      <td>132</td>\n",
              "      <td>1</td>\n",
              "      <td>0</td>\n",
              "      <td>244</td>\n",
              "      <td>0</td>\n",
              "    </tr>\n",
              "  </tbody>\n",
              "</table>\n",
              "</div>"
            ],
            "text/plain": [
              "      age  anaemia  creatinine_phosphokinase  ...  smoking  time  DEATH_EVENT\n",
              "180  40.0        0                       478  ...        0   148            0\n",
              "189  40.0        0                       244  ...        0   174            0\n",
              "206  40.0        1                       101  ...        0   187            0\n",
              "232  40.0        1                       129  ...        0   209            0\n",
              "242  40.0        0                        90  ...        1   212            0\n",
              "248  40.0        0                       624  ...        1   214            0\n",
              "269  40.0        0                       582  ...        0   244            0\n",
              "\n",
              "[7 rows x 13 columns]"
            ]
          },
          "metadata": {},
          "execution_count": 30
        }
      ]
    },
    {
      "cell_type": "markdown",
      "metadata": {
        "id": "6GbDPPsMxIa2"
      },
      "source": [
        "Con este código clasificamos los datos para que solo nos muestre las personas mas jovenes de nuestra base."
      ]
    },
    {
      "cell_type": "markdown",
      "metadata": {
        "id": "eermXxut0c3m"
      },
      "source": [
        "**¿Para que me puede servir estas agrupaciones para la práctica siguiente?**\n",
        "Podemos saber o aproximar el promedio de las personas que fallecen por insuficiencia cardiaca. Tambien pordemos saber si las personas jovenes tienen la misma incidencia que las personas adultas."
      ]
    },
    {
      "cell_type": "code",
      "metadata": {
        "colab": {
          "base_uri": "https://localhost:8080/",
          "height": 439
        },
        "id": "uDfU5a33jaHp",
        "outputId": "1e9759dc-1904-497c-f12c-1706c44cccf8"
      },
      "source": [
        "#e)Cambiar nombres de la columnas\n",
        "heart.rename(columns = {'DEATH_EVENT':'Death'})"
      ],
      "execution_count": null,
      "outputs": [
        {
          "output_type": "execute_result",
          "data": {
            "text/html": [
              "<div>\n",
              "<style scoped>\n",
              "    .dataframe tbody tr th:only-of-type {\n",
              "        vertical-align: middle;\n",
              "    }\n",
              "\n",
              "    .dataframe tbody tr th {\n",
              "        vertical-align: top;\n",
              "    }\n",
              "\n",
              "    .dataframe thead th {\n",
              "        text-align: right;\n",
              "    }\n",
              "</style>\n",
              "<table border=\"1\" class=\"dataframe\">\n",
              "  <thead>\n",
              "    <tr style=\"text-align: right;\">\n",
              "      <th></th>\n",
              "      <th>age</th>\n",
              "      <th>anaemia</th>\n",
              "      <th>creatinine_phosphokinase</th>\n",
              "      <th>diabetes</th>\n",
              "      <th>ejection_fraction</th>\n",
              "      <th>high_blood_pressure</th>\n",
              "      <th>platelets</th>\n",
              "      <th>serum_creatinine</th>\n",
              "      <th>serum_sodium</th>\n",
              "      <th>sex</th>\n",
              "      <th>smoking</th>\n",
              "      <th>time</th>\n",
              "      <th>Death</th>\n",
              "    </tr>\n",
              "  </thead>\n",
              "  <tbody>\n",
              "    <tr>\n",
              "      <th>0</th>\n",
              "      <td>75.0</td>\n",
              "      <td>0</td>\n",
              "      <td>582</td>\n",
              "      <td>0</td>\n",
              "      <td>20</td>\n",
              "      <td>1</td>\n",
              "      <td>265000.00</td>\n",
              "      <td>1.9</td>\n",
              "      <td>130</td>\n",
              "      <td>1</td>\n",
              "      <td>0</td>\n",
              "      <td>4</td>\n",
              "      <td>1</td>\n",
              "    </tr>\n",
              "    <tr>\n",
              "      <th>1</th>\n",
              "      <td>55.0</td>\n",
              "      <td>0</td>\n",
              "      <td>7861</td>\n",
              "      <td>0</td>\n",
              "      <td>38</td>\n",
              "      <td>0</td>\n",
              "      <td>263358.03</td>\n",
              "      <td>1.1</td>\n",
              "      <td>136</td>\n",
              "      <td>1</td>\n",
              "      <td>0</td>\n",
              "      <td>6</td>\n",
              "      <td>1</td>\n",
              "    </tr>\n",
              "    <tr>\n",
              "      <th>2</th>\n",
              "      <td>65.0</td>\n",
              "      <td>0</td>\n",
              "      <td>146</td>\n",
              "      <td>0</td>\n",
              "      <td>20</td>\n",
              "      <td>0</td>\n",
              "      <td>162000.00</td>\n",
              "      <td>1.3</td>\n",
              "      <td>129</td>\n",
              "      <td>1</td>\n",
              "      <td>1</td>\n",
              "      <td>7</td>\n",
              "      <td>1</td>\n",
              "    </tr>\n",
              "    <tr>\n",
              "      <th>3</th>\n",
              "      <td>50.0</td>\n",
              "      <td>1</td>\n",
              "      <td>111</td>\n",
              "      <td>0</td>\n",
              "      <td>20</td>\n",
              "      <td>0</td>\n",
              "      <td>210000.00</td>\n",
              "      <td>1.9</td>\n",
              "      <td>137</td>\n",
              "      <td>1</td>\n",
              "      <td>0</td>\n",
              "      <td>7</td>\n",
              "      <td>1</td>\n",
              "    </tr>\n",
              "    <tr>\n",
              "      <th>4</th>\n",
              "      <td>65.0</td>\n",
              "      <td>1</td>\n",
              "      <td>160</td>\n",
              "      <td>1</td>\n",
              "      <td>20</td>\n",
              "      <td>0</td>\n",
              "      <td>327000.00</td>\n",
              "      <td>2.7</td>\n",
              "      <td>116</td>\n",
              "      <td>0</td>\n",
              "      <td>0</td>\n",
              "      <td>8</td>\n",
              "      <td>1</td>\n",
              "    </tr>\n",
              "    <tr>\n",
              "      <th>...</th>\n",
              "      <td>...</td>\n",
              "      <td>...</td>\n",
              "      <td>...</td>\n",
              "      <td>...</td>\n",
              "      <td>...</td>\n",
              "      <td>...</td>\n",
              "      <td>...</td>\n",
              "      <td>...</td>\n",
              "      <td>...</td>\n",
              "      <td>...</td>\n",
              "      <td>...</td>\n",
              "      <td>...</td>\n",
              "      <td>...</td>\n",
              "    </tr>\n",
              "    <tr>\n",
              "      <th>294</th>\n",
              "      <td>62.0</td>\n",
              "      <td>0</td>\n",
              "      <td>61</td>\n",
              "      <td>1</td>\n",
              "      <td>38</td>\n",
              "      <td>1</td>\n",
              "      <td>155000.00</td>\n",
              "      <td>1.1</td>\n",
              "      <td>143</td>\n",
              "      <td>1</td>\n",
              "      <td>1</td>\n",
              "      <td>270</td>\n",
              "      <td>0</td>\n",
              "    </tr>\n",
              "    <tr>\n",
              "      <th>295</th>\n",
              "      <td>55.0</td>\n",
              "      <td>0</td>\n",
              "      <td>1820</td>\n",
              "      <td>0</td>\n",
              "      <td>38</td>\n",
              "      <td>0</td>\n",
              "      <td>270000.00</td>\n",
              "      <td>1.2</td>\n",
              "      <td>139</td>\n",
              "      <td>0</td>\n",
              "      <td>0</td>\n",
              "      <td>271</td>\n",
              "      <td>0</td>\n",
              "    </tr>\n",
              "    <tr>\n",
              "      <th>296</th>\n",
              "      <td>45.0</td>\n",
              "      <td>0</td>\n",
              "      <td>2060</td>\n",
              "      <td>1</td>\n",
              "      <td>60</td>\n",
              "      <td>0</td>\n",
              "      <td>742000.00</td>\n",
              "      <td>0.8</td>\n",
              "      <td>138</td>\n",
              "      <td>0</td>\n",
              "      <td>0</td>\n",
              "      <td>278</td>\n",
              "      <td>0</td>\n",
              "    </tr>\n",
              "    <tr>\n",
              "      <th>297</th>\n",
              "      <td>45.0</td>\n",
              "      <td>0</td>\n",
              "      <td>2413</td>\n",
              "      <td>0</td>\n",
              "      <td>38</td>\n",
              "      <td>0</td>\n",
              "      <td>140000.00</td>\n",
              "      <td>1.4</td>\n",
              "      <td>140</td>\n",
              "      <td>1</td>\n",
              "      <td>1</td>\n",
              "      <td>280</td>\n",
              "      <td>0</td>\n",
              "    </tr>\n",
              "    <tr>\n",
              "      <th>298</th>\n",
              "      <td>50.0</td>\n",
              "      <td>0</td>\n",
              "      <td>196</td>\n",
              "      <td>0</td>\n",
              "      <td>45</td>\n",
              "      <td>0</td>\n",
              "      <td>395000.00</td>\n",
              "      <td>1.6</td>\n",
              "      <td>136</td>\n",
              "      <td>1</td>\n",
              "      <td>1</td>\n",
              "      <td>285</td>\n",
              "      <td>0</td>\n",
              "    </tr>\n",
              "  </tbody>\n",
              "</table>\n",
              "<p>299 rows × 13 columns</p>\n",
              "</div>"
            ],
            "text/plain": [
              "      age  anaemia  creatinine_phosphokinase  ...  smoking  time  Death\n",
              "0    75.0        0                       582  ...        0     4      1\n",
              "1    55.0        0                      7861  ...        0     6      1\n",
              "2    65.0        0                       146  ...        1     7      1\n",
              "3    50.0        1                       111  ...        0     7      1\n",
              "4    65.0        1                       160  ...        0     8      1\n",
              "..    ...      ...                       ...  ...      ...   ...    ...\n",
              "294  62.0        0                        61  ...        1   270      0\n",
              "295  55.0        0                      1820  ...        0   271      0\n",
              "296  45.0        0                      2060  ...        0   278      0\n",
              "297  45.0        0                      2413  ...        1   280      0\n",
              "298  50.0        0                       196  ...        1   285      0\n",
              "\n",
              "[299 rows x 13 columns]"
            ]
          },
          "metadata": {},
          "execution_count": 31
        }
      ]
    },
    {
      "cell_type": "markdown",
      "metadata": {
        "id": "k0KcSS0TkRHk"
      },
      "source": [
        "Con esta funcion podemos cambiar el nombre de cualquier columna."
      ]
    },
    {
      "cell_type": "code",
      "metadata": {
        "colab": {
          "base_uri": "https://localhost:8080/"
        },
        "id": "nAWfOWuwkXOc",
        "outputId": "fb8bd37b-fba4-418a-ad14-ddd439bbdc7f"
      },
      "source": [
        "#f)Guardar archivos en agrupaciones\n",
        "heart.smoking.unique()"
      ],
      "execution_count": null,
      "outputs": [
        {
          "output_type": "execute_result",
          "data": {
            "text/plain": [
              "array([0, 1])"
            ]
          },
          "metadata": {},
          "execution_count": 32
        }
      ]
    },
    {
      "cell_type": "markdown",
      "metadata": {
        "id": "c8eEeUOEk4yn"
      },
      "source": [
        "Esta funcion nos da los valores unicos de cierta columna y asi podremos agruparlos por categorias."
      ]
    },
    {
      "cell_type": "code",
      "metadata": {
        "colab": {
          "base_uri": "https://localhost:8080/",
          "height": 439
        },
        "id": "4ZbP2PZYlKKw",
        "outputId": "e77af3f9-91a9-419f-d9c4-9ac71995d5db"
      },
      "source": [
        "Fumadores= heart[heart['smoking']==1]\n",
        "\n",
        "Fumadores.to_csv('Solo_Fumadores.csv', index=False)\n",
        "Fumadores"
      ],
      "execution_count": null,
      "outputs": [
        {
          "output_type": "execute_result",
          "data": {
            "text/html": [
              "<div>\n",
              "<style scoped>\n",
              "    .dataframe tbody tr th:only-of-type {\n",
              "        vertical-align: middle;\n",
              "    }\n",
              "\n",
              "    .dataframe tbody tr th {\n",
              "        vertical-align: top;\n",
              "    }\n",
              "\n",
              "    .dataframe thead th {\n",
              "        text-align: right;\n",
              "    }\n",
              "</style>\n",
              "<table border=\"1\" class=\"dataframe\">\n",
              "  <thead>\n",
              "    <tr style=\"text-align: right;\">\n",
              "      <th></th>\n",
              "      <th>age</th>\n",
              "      <th>anaemia</th>\n",
              "      <th>creatinine_phosphokinase</th>\n",
              "      <th>diabetes</th>\n",
              "      <th>ejection_fraction</th>\n",
              "      <th>high_blood_pressure</th>\n",
              "      <th>platelets</th>\n",
              "      <th>serum_creatinine</th>\n",
              "      <th>serum_sodium</th>\n",
              "      <th>sex</th>\n",
              "      <th>smoking</th>\n",
              "      <th>time</th>\n",
              "      <th>DEATH_EVENT</th>\n",
              "    </tr>\n",
              "  </thead>\n",
              "  <tbody>\n",
              "    <tr>\n",
              "      <th>2</th>\n",
              "      <td>65.0</td>\n",
              "      <td>0</td>\n",
              "      <td>146</td>\n",
              "      <td>0</td>\n",
              "      <td>20</td>\n",
              "      <td>0</td>\n",
              "      <td>162000.0</td>\n",
              "      <td>1.3</td>\n",
              "      <td>129</td>\n",
              "      <td>1</td>\n",
              "      <td>1</td>\n",
              "      <td>7</td>\n",
              "      <td>1</td>\n",
              "    </tr>\n",
              "    <tr>\n",
              "      <th>5</th>\n",
              "      <td>90.0</td>\n",
              "      <td>1</td>\n",
              "      <td>47</td>\n",
              "      <td>0</td>\n",
              "      <td>40</td>\n",
              "      <td>1</td>\n",
              "      <td>204000.0</td>\n",
              "      <td>2.1</td>\n",
              "      <td>132</td>\n",
              "      <td>1</td>\n",
              "      <td>1</td>\n",
              "      <td>8</td>\n",
              "      <td>1</td>\n",
              "    </tr>\n",
              "    <tr>\n",
              "      <th>7</th>\n",
              "      <td>60.0</td>\n",
              "      <td>1</td>\n",
              "      <td>315</td>\n",
              "      <td>1</td>\n",
              "      <td>60</td>\n",
              "      <td>0</td>\n",
              "      <td>454000.0</td>\n",
              "      <td>1.1</td>\n",
              "      <td>131</td>\n",
              "      <td>1</td>\n",
              "      <td>1</td>\n",
              "      <td>10</td>\n",
              "      <td>1</td>\n",
              "    </tr>\n",
              "    <tr>\n",
              "      <th>9</th>\n",
              "      <td>80.0</td>\n",
              "      <td>1</td>\n",
              "      <td>123</td>\n",
              "      <td>0</td>\n",
              "      <td>35</td>\n",
              "      <td>1</td>\n",
              "      <td>388000.0</td>\n",
              "      <td>9.4</td>\n",
              "      <td>133</td>\n",
              "      <td>1</td>\n",
              "      <td>1</td>\n",
              "      <td>10</td>\n",
              "      <td>1</td>\n",
              "    </tr>\n",
              "    <tr>\n",
              "      <th>10</th>\n",
              "      <td>75.0</td>\n",
              "      <td>1</td>\n",
              "      <td>81</td>\n",
              "      <td>0</td>\n",
              "      <td>38</td>\n",
              "      <td>1</td>\n",
              "      <td>368000.0</td>\n",
              "      <td>4.0</td>\n",
              "      <td>131</td>\n",
              "      <td>1</td>\n",
              "      <td>1</td>\n",
              "      <td>10</td>\n",
              "      <td>1</td>\n",
              "    </tr>\n",
              "    <tr>\n",
              "      <th>...</th>\n",
              "      <td>...</td>\n",
              "      <td>...</td>\n",
              "      <td>...</td>\n",
              "      <td>...</td>\n",
              "      <td>...</td>\n",
              "      <td>...</td>\n",
              "      <td>...</td>\n",
              "      <td>...</td>\n",
              "      <td>...</td>\n",
              "      <td>...</td>\n",
              "      <td>...</td>\n",
              "      <td>...</td>\n",
              "      <td>...</td>\n",
              "    </tr>\n",
              "    <tr>\n",
              "      <th>292</th>\n",
              "      <td>52.0</td>\n",
              "      <td>0</td>\n",
              "      <td>190</td>\n",
              "      <td>1</td>\n",
              "      <td>38</td>\n",
              "      <td>0</td>\n",
              "      <td>382000.0</td>\n",
              "      <td>1.0</td>\n",
              "      <td>140</td>\n",
              "      <td>1</td>\n",
              "      <td>1</td>\n",
              "      <td>258</td>\n",
              "      <td>0</td>\n",
              "    </tr>\n",
              "    <tr>\n",
              "      <th>293</th>\n",
              "      <td>63.0</td>\n",
              "      <td>1</td>\n",
              "      <td>103</td>\n",
              "      <td>1</td>\n",
              "      <td>35</td>\n",
              "      <td>0</td>\n",
              "      <td>179000.0</td>\n",
              "      <td>0.9</td>\n",
              "      <td>136</td>\n",
              "      <td>1</td>\n",
              "      <td>1</td>\n",
              "      <td>270</td>\n",
              "      <td>0</td>\n",
              "    </tr>\n",
              "    <tr>\n",
              "      <th>294</th>\n",
              "      <td>62.0</td>\n",
              "      <td>0</td>\n",
              "      <td>61</td>\n",
              "      <td>1</td>\n",
              "      <td>38</td>\n",
              "      <td>1</td>\n",
              "      <td>155000.0</td>\n",
              "      <td>1.1</td>\n",
              "      <td>143</td>\n",
              "      <td>1</td>\n",
              "      <td>1</td>\n",
              "      <td>270</td>\n",
              "      <td>0</td>\n",
              "    </tr>\n",
              "    <tr>\n",
              "      <th>297</th>\n",
              "      <td>45.0</td>\n",
              "      <td>0</td>\n",
              "      <td>2413</td>\n",
              "      <td>0</td>\n",
              "      <td>38</td>\n",
              "      <td>0</td>\n",
              "      <td>140000.0</td>\n",
              "      <td>1.4</td>\n",
              "      <td>140</td>\n",
              "      <td>1</td>\n",
              "      <td>1</td>\n",
              "      <td>280</td>\n",
              "      <td>0</td>\n",
              "    </tr>\n",
              "    <tr>\n",
              "      <th>298</th>\n",
              "      <td>50.0</td>\n",
              "      <td>0</td>\n",
              "      <td>196</td>\n",
              "      <td>0</td>\n",
              "      <td>45</td>\n",
              "      <td>0</td>\n",
              "      <td>395000.0</td>\n",
              "      <td>1.6</td>\n",
              "      <td>136</td>\n",
              "      <td>1</td>\n",
              "      <td>1</td>\n",
              "      <td>285</td>\n",
              "      <td>0</td>\n",
              "    </tr>\n",
              "  </tbody>\n",
              "</table>\n",
              "<p>96 rows × 13 columns</p>\n",
              "</div>"
            ],
            "text/plain": [
              "      age  anaemia  creatinine_phosphokinase  ...  smoking  time  DEATH_EVENT\n",
              "2    65.0        0                       146  ...        1     7            1\n",
              "5    90.0        1                        47  ...        1     8            1\n",
              "7    60.0        1                       315  ...        1    10            1\n",
              "9    80.0        1                       123  ...        1    10            1\n",
              "10   75.0        1                        81  ...        1    10            1\n",
              "..    ...      ...                       ...  ...      ...   ...          ...\n",
              "292  52.0        0                       190  ...        1   258            0\n",
              "293  63.0        1                       103  ...        1   270            0\n",
              "294  62.0        0                        61  ...        1   270            0\n",
              "297  45.0        0                      2413  ...        1   280            0\n",
              "298  50.0        0                       196  ...        1   285            0\n",
              "\n",
              "[96 rows x 13 columns]"
            ]
          },
          "metadata": {},
          "execution_count": 33
        }
      ]
    },
    {
      "cell_type": "markdown",
      "metadata": {
        "id": "0QTm79hxmQbT"
      },
      "source": [
        "Con esta funcion estamos agrupando todos los datos que en la columna \"smoking\" tienen asignado el numero 1, es decir, las personas que **SI** fuman. Tambien nos muestra cuantas filas tenemos en nuestra nueva base."
      ]
    },
    {
      "cell_type": "code",
      "metadata": {
        "colab": {
          "base_uri": "https://localhost:8080/",
          "height": 439
        },
        "id": "WjRlLxNal52U",
        "outputId": "cae64916-63a7-4f62-f321-5095f688a754"
      },
      "source": [
        "No_Fumadores= heart[heart['smoking']==0]\n",
        "\n",
        "No_Fumadores.to_csv('Solo_No_Fumadores', index=False)\n",
        "No_Fumadores"
      ],
      "execution_count": null,
      "outputs": [
        {
          "output_type": "execute_result",
          "data": {
            "text/html": [
              "<div>\n",
              "<style scoped>\n",
              "    .dataframe tbody tr th:only-of-type {\n",
              "        vertical-align: middle;\n",
              "    }\n",
              "\n",
              "    .dataframe tbody tr th {\n",
              "        vertical-align: top;\n",
              "    }\n",
              "\n",
              "    .dataframe thead th {\n",
              "        text-align: right;\n",
              "    }\n",
              "</style>\n",
              "<table border=\"1\" class=\"dataframe\">\n",
              "  <thead>\n",
              "    <tr style=\"text-align: right;\">\n",
              "      <th></th>\n",
              "      <th>age</th>\n",
              "      <th>anaemia</th>\n",
              "      <th>creatinine_phosphokinase</th>\n",
              "      <th>diabetes</th>\n",
              "      <th>ejection_fraction</th>\n",
              "      <th>high_blood_pressure</th>\n",
              "      <th>platelets</th>\n",
              "      <th>serum_creatinine</th>\n",
              "      <th>serum_sodium</th>\n",
              "      <th>sex</th>\n",
              "      <th>smoking</th>\n",
              "      <th>time</th>\n",
              "      <th>DEATH_EVENT</th>\n",
              "    </tr>\n",
              "  </thead>\n",
              "  <tbody>\n",
              "    <tr>\n",
              "      <th>0</th>\n",
              "      <td>75.0</td>\n",
              "      <td>0</td>\n",
              "      <td>582</td>\n",
              "      <td>0</td>\n",
              "      <td>20</td>\n",
              "      <td>1</td>\n",
              "      <td>265000.00</td>\n",
              "      <td>1.9</td>\n",
              "      <td>130</td>\n",
              "      <td>1</td>\n",
              "      <td>0</td>\n",
              "      <td>4</td>\n",
              "      <td>1</td>\n",
              "    </tr>\n",
              "    <tr>\n",
              "      <th>1</th>\n",
              "      <td>55.0</td>\n",
              "      <td>0</td>\n",
              "      <td>7861</td>\n",
              "      <td>0</td>\n",
              "      <td>38</td>\n",
              "      <td>0</td>\n",
              "      <td>263358.03</td>\n",
              "      <td>1.1</td>\n",
              "      <td>136</td>\n",
              "      <td>1</td>\n",
              "      <td>0</td>\n",
              "      <td>6</td>\n",
              "      <td>1</td>\n",
              "    </tr>\n",
              "    <tr>\n",
              "      <th>3</th>\n",
              "      <td>50.0</td>\n",
              "      <td>1</td>\n",
              "      <td>111</td>\n",
              "      <td>0</td>\n",
              "      <td>20</td>\n",
              "      <td>0</td>\n",
              "      <td>210000.00</td>\n",
              "      <td>1.9</td>\n",
              "      <td>137</td>\n",
              "      <td>1</td>\n",
              "      <td>0</td>\n",
              "      <td>7</td>\n",
              "      <td>1</td>\n",
              "    </tr>\n",
              "    <tr>\n",
              "      <th>4</th>\n",
              "      <td>65.0</td>\n",
              "      <td>1</td>\n",
              "      <td>160</td>\n",
              "      <td>1</td>\n",
              "      <td>20</td>\n",
              "      <td>0</td>\n",
              "      <td>327000.00</td>\n",
              "      <td>2.7</td>\n",
              "      <td>116</td>\n",
              "      <td>0</td>\n",
              "      <td>0</td>\n",
              "      <td>8</td>\n",
              "      <td>1</td>\n",
              "    </tr>\n",
              "    <tr>\n",
              "      <th>6</th>\n",
              "      <td>75.0</td>\n",
              "      <td>1</td>\n",
              "      <td>246</td>\n",
              "      <td>0</td>\n",
              "      <td>15</td>\n",
              "      <td>0</td>\n",
              "      <td>127000.00</td>\n",
              "      <td>1.2</td>\n",
              "      <td>137</td>\n",
              "      <td>1</td>\n",
              "      <td>0</td>\n",
              "      <td>10</td>\n",
              "      <td>1</td>\n",
              "    </tr>\n",
              "    <tr>\n",
              "      <th>...</th>\n",
              "      <td>...</td>\n",
              "      <td>...</td>\n",
              "      <td>...</td>\n",
              "      <td>...</td>\n",
              "      <td>...</td>\n",
              "      <td>...</td>\n",
              "      <td>...</td>\n",
              "      <td>...</td>\n",
              "      <td>...</td>\n",
              "      <td>...</td>\n",
              "      <td>...</td>\n",
              "      <td>...</td>\n",
              "      <td>...</td>\n",
              "    </tr>\n",
              "    <tr>\n",
              "      <th>289</th>\n",
              "      <td>90.0</td>\n",
              "      <td>1</td>\n",
              "      <td>337</td>\n",
              "      <td>0</td>\n",
              "      <td>38</td>\n",
              "      <td>0</td>\n",
              "      <td>390000.00</td>\n",
              "      <td>0.9</td>\n",
              "      <td>144</td>\n",
              "      <td>0</td>\n",
              "      <td>0</td>\n",
              "      <td>256</td>\n",
              "      <td>0</td>\n",
              "    </tr>\n",
              "    <tr>\n",
              "      <th>290</th>\n",
              "      <td>45.0</td>\n",
              "      <td>0</td>\n",
              "      <td>615</td>\n",
              "      <td>1</td>\n",
              "      <td>55</td>\n",
              "      <td>0</td>\n",
              "      <td>222000.00</td>\n",
              "      <td>0.8</td>\n",
              "      <td>141</td>\n",
              "      <td>0</td>\n",
              "      <td>0</td>\n",
              "      <td>257</td>\n",
              "      <td>0</td>\n",
              "    </tr>\n",
              "    <tr>\n",
              "      <th>291</th>\n",
              "      <td>60.0</td>\n",
              "      <td>0</td>\n",
              "      <td>320</td>\n",
              "      <td>0</td>\n",
              "      <td>35</td>\n",
              "      <td>0</td>\n",
              "      <td>133000.00</td>\n",
              "      <td>1.4</td>\n",
              "      <td>139</td>\n",
              "      <td>1</td>\n",
              "      <td>0</td>\n",
              "      <td>258</td>\n",
              "      <td>0</td>\n",
              "    </tr>\n",
              "    <tr>\n",
              "      <th>295</th>\n",
              "      <td>55.0</td>\n",
              "      <td>0</td>\n",
              "      <td>1820</td>\n",
              "      <td>0</td>\n",
              "      <td>38</td>\n",
              "      <td>0</td>\n",
              "      <td>270000.00</td>\n",
              "      <td>1.2</td>\n",
              "      <td>139</td>\n",
              "      <td>0</td>\n",
              "      <td>0</td>\n",
              "      <td>271</td>\n",
              "      <td>0</td>\n",
              "    </tr>\n",
              "    <tr>\n",
              "      <th>296</th>\n",
              "      <td>45.0</td>\n",
              "      <td>0</td>\n",
              "      <td>2060</td>\n",
              "      <td>1</td>\n",
              "      <td>60</td>\n",
              "      <td>0</td>\n",
              "      <td>742000.00</td>\n",
              "      <td>0.8</td>\n",
              "      <td>138</td>\n",
              "      <td>0</td>\n",
              "      <td>0</td>\n",
              "      <td>278</td>\n",
              "      <td>0</td>\n",
              "    </tr>\n",
              "  </tbody>\n",
              "</table>\n",
              "<p>203 rows × 13 columns</p>\n",
              "</div>"
            ],
            "text/plain": [
              "      age  anaemia  creatinine_phosphokinase  ...  smoking  time  DEATH_EVENT\n",
              "0    75.0        0                       582  ...        0     4            1\n",
              "1    55.0        0                      7861  ...        0     6            1\n",
              "3    50.0        1                       111  ...        0     7            1\n",
              "4    65.0        1                       160  ...        0     8            1\n",
              "6    75.0        1                       246  ...        0    10            1\n",
              "..    ...      ...                       ...  ...      ...   ...          ...\n",
              "289  90.0        1                       337  ...        0   256            0\n",
              "290  45.0        0                       615  ...        0   257            0\n",
              "291  60.0        0                       320  ...        0   258            0\n",
              "295  55.0        0                      1820  ...        0   271            0\n",
              "296  45.0        0                      2060  ...        0   278            0\n",
              "\n",
              "[203 rows x 13 columns]"
            ]
          },
          "metadata": {},
          "execution_count": 34
        }
      ]
    },
    {
      "cell_type": "markdown",
      "metadata": {
        "id": "b0DbNMqWmspj"
      },
      "source": [
        "Con esta funcion estamos agrupando todos los datos que en la columna \"smoking\" tienen asignado el numero 0, es decir, las personas que **NO** fuman. Tambien nos muestra cuantas filas tenemos en nuestra nueva base."
      ]
    },
    {
      "cell_type": "markdown",
      "metadata": {
        "id": "8TFJ9z7gmd6_"
      },
      "source": [
        "---\n",
        "**BASE SECUNDARIA**\n"
      ]
    },
    {
      "cell_type": "markdown",
      "metadata": {
        "id": "ZqdQaUBwVZL-"
      },
      "source": [
        "**Fast Food Restaurants Across America**: https://www.kaggle.com/datafiniti/fast-food-restaurants?select=Datafiniti_Fast_Food_Restaurants.csv"
      ]
    },
    {
      "cell_type": "markdown",
      "metadata": {
        "id": "Vps87DyfWMjM"
      },
      "source": [
        "**2a) Realizar una descripcion sobre el tema donde se desarrolla su base de datos**"
      ]
    },
    {
      "cell_type": "markdown",
      "metadata": {
        "id": "X_7iBvs8WXC1"
      },
      "source": [
        "La comida rápida es muy bien conocida por ser una fácil opción al momento de comer y no tener tiempo, mucho dinero o simplemente no saber cocinar ya que esta es la mejor opción para estos momentos. Además el país conocido por poseer una gran variedad de establecimientos de comida rápida es Estados Unidos y el conocer los estados en el que se encuentran el mayor número de estos establecimientos pueden representar una gran ayuda al momento de querer invertir en construir uno de estos establecimientos, ya que el abrir en uno de estos estados que mayor nímero de establecimientos de comida rápida poseen puede representar una gran ayuda ya que indicaría un gran consumo de este tipo de comida. "
      ]
    },
    {
      "cell_type": "markdown",
      "metadata": {
        "id": "6HS3-Rs3ZjwL"
      },
      "source": [
        "**3a) Que tipo de datos son**"
      ]
    },
    {
      "cell_type": "markdown",
      "metadata": {
        "id": "X1XYh-LbZrTS"
      },
      "source": [
        "Los datos recolectados vienen expuestos en forma de tablas y gráficas"
      ]
    },
    {
      "cell_type": "markdown",
      "metadata": {
        "id": "5Mw9clxEZ2Df"
      },
      "source": [
        "**3b) Descripcion de las columnas**"
      ]
    },
    {
      "cell_type": "markdown",
      "metadata": {
        "id": "X9zc-KucZ8Ou"
      },
      "source": [
        "**id** - Secuencia de numeros y letras\n",
        "\n",
        "**dateAdded** - Fecha y hora\n",
        "\n",
        "**dataUpdated** - Fecha y hor\n",
        "\n",
        "**address** - Direccion \n",
        "\n",
        "**categories** - Texto (categoria del establecimiento)\n",
        "\n",
        "**city** - Texto \n",
        "\n",
        "**country** - Texto \n",
        "\n",
        "**keys** - Texto largo con letras, numeros y signos\n",
        "\n",
        "**latitude** - Numero decimal\n",
        "\n",
        "**longitude** - Numero decimal\n",
        "\n",
        "**name** - Texto\n",
        "\n",
        "**postalCode** - Numeros enteros \n",
        "\n",
        "**province** - Texto\n",
        "\n",
        "**sourceURLs** - Texto largo de numero, letras y signos \n",
        "\n",
        "**websites** - Texto largo de numero, letras y signos "
      ]
    },
    {
      "cell_type": "markdown",
      "metadata": {
        "id": "9Xx6uOYwfdJs"
      },
      "source": [
        "**4a)Características que nos interesaron de la base datos**"
      ]
    },
    {
      "cell_type": "markdown",
      "metadata": {
        "id": "TiFsxmEyR8VV"
      },
      "source": [
        "Principalmente nos intereso trabajar con esta base de datos debido a que sabemos que en Estados Unidos predominan los restaurantes de comida rápida y que inclusive desde hace muchos años, este país es reconocido por las grandes cantidades de comida rápida que se producen y consumen, por lo que se pueden abarcar diversos temas a partir de la información brindada, ademas de que en esta base de datos se tiene la direccion exacta de los establecimientos fue algo que encontramos interesante.\n"
      ]
    },
    {
      "cell_type": "markdown",
      "metadata": {
        "id": "BMyrBRUfUb5M"
      },
      "source": [
        "**4b)Beneficio de trabajar con esta base de datos**"
      ]
    },
    {
      "cell_type": "markdown",
      "metadata": {
        "id": "29I8AOUbYBO0"
      },
      "source": [
        "La gran cantidad de problemáticas que se pueden resolver a través de esta base datos, además de que estas pueden ser de temas muy variados."
      ]
    },
    {
      "cell_type": "markdown",
      "metadata": {
        "id": "0Ya5Rh3KawUx"
      },
      "source": [
        "**5a)Objetivo final**"
      ]
    },
    {
      "cell_type": "markdown",
      "metadata": {
        "id": "E42OJ38Qa2zR"
      },
      "source": [
        "Observar en que estado es mas conveniente implementar un nuevo negocio de comida rápida, según la competencia encontrada alrededor."
      ]
    },
    {
      "cell_type": "markdown",
      "metadata": {
        "id": "t05BfyIYBRvS"
      },
      "source": [
        "**6a) Preguntas de interés**"
      ]
    },
    {
      "cell_type": "markdown",
      "metadata": {
        "id": "wgw0FdSVBTKt"
      },
      "source": [
        "\n",
        "\n",
        "*   ¿Cuál es el restaurante con mayor cantidad de franquicias y en que ciudades están mayormente?\n",
        "\n",
        "*   ¿En qué año se añadió la mayor cantidad de restaurantes?\n",
        "\n",
        "\n"
      ]
    },
    {
      "cell_type": "markdown",
      "metadata": {
        "id": "R3VhXHB-8LlT"
      },
      "source": [
        "**7.- Parte de programacion**"
      ]
    },
    {
      "cell_type": "code",
      "metadata": {
        "id": "wky1PWYF8BHt"
      },
      "source": [
        "#a) Importar librerias y base de datos\n",
        "import pandas as pd\n",
        "import numpy as np\n",
        "import json\n",
        "food = pd.read_csv(\"FastFoodRestaurants.csv\")"
      ],
      "execution_count": null,
      "outputs": []
    },
    {
      "cell_type": "markdown",
      "metadata": {
        "id": "FXzeoShb8BHt"
      },
      "source": [
        "Aqui importamos la base de datos con la que trabajaremos."
      ]
    },
    {
      "cell_type": "code",
      "metadata": {
        "colab": {
          "base_uri": "https://localhost:8080/"
        },
        "id": "VRBk0cEi8BHu",
        "outputId": "59262ab6-0f04-42ed-d8f1-7d3ae3d3405a"
      },
      "source": [
        "#b) Visualizar los datos\n",
        "food.shape "
      ],
      "execution_count": null,
      "outputs": [
        {
          "output_type": "execute_result",
          "data": {
            "text/plain": [
              "(10000, 10)"
            ]
          },
          "metadata": {},
          "execution_count": 2
        }
      ]
    },
    {
      "cell_type": "markdown",
      "metadata": {
        "id": "eW-nDwlK8BHu"
      },
      "source": [
        "Esta funcion nos dice cuantas filas y columnas tiene nuestra base de datos. \n"
      ]
    },
    {
      "cell_type": "code",
      "metadata": {
        "colab": {
          "base_uri": "https://localhost:8080/",
          "height": 264
        },
        "id": "ZKnPlZgG8BHv",
        "outputId": "41e68c4b-c398-4053-9220-dba851dbaedc"
      },
      "source": [
        "food.head(3)"
      ],
      "execution_count": null,
      "outputs": [
        {
          "output_type": "execute_result",
          "data": {
            "text/html": [
              "<div>\n",
              "<style scoped>\n",
              "    .dataframe tbody tr th:only-of-type {\n",
              "        vertical-align: middle;\n",
              "    }\n",
              "\n",
              "    .dataframe tbody tr th {\n",
              "        vertical-align: top;\n",
              "    }\n",
              "\n",
              "    .dataframe thead th {\n",
              "        text-align: right;\n",
              "    }\n",
              "</style>\n",
              "<table border=\"1\" class=\"dataframe\">\n",
              "  <thead>\n",
              "    <tr style=\"text-align: right;\">\n",
              "      <th></th>\n",
              "      <th>address</th>\n",
              "      <th>city</th>\n",
              "      <th>country</th>\n",
              "      <th>keys</th>\n",
              "      <th>latitude</th>\n",
              "      <th>longitude</th>\n",
              "      <th>name</th>\n",
              "      <th>postalCode</th>\n",
              "      <th>province</th>\n",
              "      <th>websites</th>\n",
              "    </tr>\n",
              "  </thead>\n",
              "  <tbody>\n",
              "    <tr>\n",
              "      <th>0</th>\n",
              "      <td>324 Main St</td>\n",
              "      <td>Massena</td>\n",
              "      <td>US</td>\n",
              "      <td>us/ny/massena/324mainst/-1161002137</td>\n",
              "      <td>44.92130</td>\n",
              "      <td>-74.89021</td>\n",
              "      <td>McDonald's</td>\n",
              "      <td>13662</td>\n",
              "      <td>NY</td>\n",
              "      <td>http://mcdonalds.com,http://www.mcdonalds.com/...</td>\n",
              "    </tr>\n",
              "    <tr>\n",
              "      <th>1</th>\n",
              "      <td>530 Clinton Ave</td>\n",
              "      <td>Washington Court House</td>\n",
              "      <td>US</td>\n",
              "      <td>us/oh/washingtoncourthouse/530clintonave/-7914...</td>\n",
              "      <td>39.53255</td>\n",
              "      <td>-83.44526</td>\n",
              "      <td>Wendy's</td>\n",
              "      <td>43160</td>\n",
              "      <td>OH</td>\n",
              "      <td>http://www.wendys.com</td>\n",
              "    </tr>\n",
              "    <tr>\n",
              "      <th>2</th>\n",
              "      <td>408 Market Square Dr</td>\n",
              "      <td>Maysville</td>\n",
              "      <td>US</td>\n",
              "      <td>us/ky/maysville/408marketsquaredr/1051460804</td>\n",
              "      <td>38.62736</td>\n",
              "      <td>-83.79141</td>\n",
              "      <td>Frisch's Big Boy</td>\n",
              "      <td>41056</td>\n",
              "      <td>KY</td>\n",
              "      <td>http://www.frischs.com,https://www.frischs.com...</td>\n",
              "    </tr>\n",
              "  </tbody>\n",
              "</table>\n",
              "</div>"
            ],
            "text/plain": [
              "                address  ...                                           websites\n",
              "0           324 Main St  ...  http://mcdonalds.com,http://www.mcdonalds.com/...\n",
              "1       530 Clinton Ave  ...                              http://www.wendys.com\n",
              "2  408 Market Square Dr  ...  http://www.frischs.com,https://www.frischs.com...\n",
              "\n",
              "[3 rows x 10 columns]"
            ]
          },
          "metadata": {},
          "execution_count": 3
        }
      ]
    },
    {
      "cell_type": "code",
      "metadata": {
        "colab": {
          "base_uri": "https://localhost:8080/",
          "height": 264
        },
        "id": "oB93KhSP8BHw",
        "outputId": "25fcccd4-df29-4da3-c020-032c1dda93c7"
      },
      "source": [
        "food.tail(3)"
      ],
      "execution_count": null,
      "outputs": [
        {
          "output_type": "execute_result",
          "data": {
            "text/html": [
              "<div>\n",
              "<style scoped>\n",
              "    .dataframe tbody tr th:only-of-type {\n",
              "        vertical-align: middle;\n",
              "    }\n",
              "\n",
              "    .dataframe tbody tr th {\n",
              "        vertical-align: top;\n",
              "    }\n",
              "\n",
              "    .dataframe thead th {\n",
              "        text-align: right;\n",
              "    }\n",
              "</style>\n",
              "<table border=\"1\" class=\"dataframe\">\n",
              "  <thead>\n",
              "    <tr style=\"text-align: right;\">\n",
              "      <th></th>\n",
              "      <th>address</th>\n",
              "      <th>city</th>\n",
              "      <th>country</th>\n",
              "      <th>keys</th>\n",
              "      <th>latitude</th>\n",
              "      <th>longitude</th>\n",
              "      <th>name</th>\n",
              "      <th>postalCode</th>\n",
              "      <th>province</th>\n",
              "      <th>websites</th>\n",
              "    </tr>\n",
              "  </thead>\n",
              "  <tbody>\n",
              "    <tr>\n",
              "      <th>9997</th>\n",
              "      <td>1708 Main St</td>\n",
              "      <td>Longmont</td>\n",
              "      <td>US</td>\n",
              "      <td>us/co/longmont/1708mainst/-448666054</td>\n",
              "      <td>40.189190</td>\n",
              "      <td>-105.101720</td>\n",
              "      <td>Five Guys</td>\n",
              "      <td>80501</td>\n",
              "      <td>CO</td>\n",
              "      <td>http://fiveguys.com</td>\n",
              "    </tr>\n",
              "    <tr>\n",
              "      <th>9998</th>\n",
              "      <td>67740 Highway 111</td>\n",
              "      <td>Cathedral City</td>\n",
              "      <td>US</td>\n",
              "      <td>us/ca/cathedralcity/67740highway111/-981164808</td>\n",
              "      <td>33.788640</td>\n",
              "      <td>-116.482150</td>\n",
              "      <td>El Pollo Loco</td>\n",
              "      <td>92234</td>\n",
              "      <td>CA</td>\n",
              "      <td>http://www.elpolloloco.com,http://elpolloloco.com</td>\n",
              "    </tr>\n",
              "    <tr>\n",
              "      <th>9999</th>\n",
              "      <td>5701 E La Palma Ave</td>\n",
              "      <td>Anaheim</td>\n",
              "      <td>US</td>\n",
              "      <td>us/ca/anaheim/5701elapalmaave/554191587</td>\n",
              "      <td>33.860074</td>\n",
              "      <td>-117.789762</td>\n",
              "      <td>Carl's Jr.</td>\n",
              "      <td>92807</td>\n",
              "      <td>CA</td>\n",
              "      <td>http://www.carlsjr.com</td>\n",
              "    </tr>\n",
              "  </tbody>\n",
              "</table>\n",
              "</div>"
            ],
            "text/plain": [
              "                  address  ...                                           websites\n",
              "9997         1708 Main St  ...                                http://fiveguys.com\n",
              "9998    67740 Highway 111  ...  http://www.elpolloloco.com,http://elpolloloco.com\n",
              "9999  5701 E La Palma Ave  ...                             http://www.carlsjr.com\n",
              "\n",
              "[3 rows x 10 columns]"
            ]
          },
          "metadata": {},
          "execution_count": 4
        }
      ]
    },
    {
      "cell_type": "markdown",
      "metadata": {
        "id": "pWyz0iHv8BHw"
      },
      "source": [
        "Estas funciones te muestras los primeros 3 y los ultimos 3 datos de la base de datos respectivamente."
      ]
    },
    {
      "cell_type": "code",
      "metadata": {
        "colab": {
          "base_uri": "https://localhost:8080/"
        },
        "id": "-UtpTCBV8BHx",
        "outputId": "ace9262e-905e-4487-f296-b69c06e5ab62"
      },
      "source": [
        "#c) Descripcion basica de columnas\n",
        "food.columns"
      ],
      "execution_count": null,
      "outputs": [
        {
          "output_type": "execute_result",
          "data": {
            "text/plain": [
              "Index(['address', 'city', 'country', 'keys', 'latitude', 'longitude', 'name',\n",
              "       'postalCode', 'province', 'websites'],\n",
              "      dtype='object')"
            ]
          },
          "metadata": {},
          "execution_count": 5
        }
      ]
    },
    {
      "cell_type": "markdown",
      "metadata": {
        "id": "4fs1xJKs8BHx"
      },
      "source": [
        "Esta funcion nos ayuda a saber el nombre de las columnas de nuestra base de datos."
      ]
    },
    {
      "cell_type": "code",
      "metadata": {
        "colab": {
          "base_uri": "https://localhost:8080/"
        },
        "id": "piDIiNXB8BHy",
        "outputId": "edfb33fb-c8e8-4023-e7fa-59f990eeb0ee"
      },
      "source": [
        "food.dtypes"
      ],
      "execution_count": null,
      "outputs": [
        {
          "output_type": "execute_result",
          "data": {
            "text/plain": [
              "address        object\n",
              "city           object\n",
              "country        object\n",
              "keys           object\n",
              "latitude      float64\n",
              "longitude     float64\n",
              "name           object\n",
              "postalCode     object\n",
              "province       object\n",
              "websites       object\n",
              "dtype: object"
            ]
          },
          "metadata": {},
          "execution_count": 6
        }
      ]
    },
    {
      "cell_type": "markdown",
      "metadata": {
        "id": "-BJFjisg8BHz"
      },
      "source": [
        "Esta funcion nos muestra el tipo de dato que tienen los elementos de las columnas."
      ]
    },
    {
      "cell_type": "code",
      "metadata": {
        "colab": {
          "base_uri": "https://localhost:8080/"
        },
        "id": "7yXAuBGi8BHz",
        "outputId": "a87e6589-e69c-4681-f0df-d5758a38af49"
      },
      "source": [
        "food.isnull().any() "
      ],
      "execution_count": null,
      "outputs": [
        {
          "output_type": "execute_result",
          "data": {
            "text/plain": [
              "address       False\n",
              "city          False\n",
              "country       False\n",
              "keys          False\n",
              "latitude      False\n",
              "longitude     False\n",
              "name          False\n",
              "postalCode    False\n",
              "province      False\n",
              "websites       True\n",
              "dtype: bool"
            ]
          },
          "metadata": {},
          "execution_count": 7
        }
      ]
    },
    {
      "cell_type": "markdown",
      "metadata": {
        "id": "Sk0dMxOU8BH0"
      },
      "source": [
        "Esta funcion nos indica si en cierta columna hay celdas vacias o datos nulos. True para indicar que hay datos nulos y False para indicar que NO hay datos nulos."
      ]
    },
    {
      "cell_type": "code",
      "metadata": {
        "colab": {
          "base_uri": "https://localhost:8080/",
          "height": 419
        },
        "id": "lgeo2nvc8BH0",
        "outputId": "ddbf8d02-9565-4634-ba12-ec61a3b4cd9f"
      },
      "source": [
        "food.isnull()"
      ],
      "execution_count": null,
      "outputs": [
        {
          "output_type": "execute_result",
          "data": {
            "text/html": [
              "<div>\n",
              "<style scoped>\n",
              "    .dataframe tbody tr th:only-of-type {\n",
              "        vertical-align: middle;\n",
              "    }\n",
              "\n",
              "    .dataframe tbody tr th {\n",
              "        vertical-align: top;\n",
              "    }\n",
              "\n",
              "    .dataframe thead th {\n",
              "        text-align: right;\n",
              "    }\n",
              "</style>\n",
              "<table border=\"1\" class=\"dataframe\">\n",
              "  <thead>\n",
              "    <tr style=\"text-align: right;\">\n",
              "      <th></th>\n",
              "      <th>address</th>\n",
              "      <th>city</th>\n",
              "      <th>country</th>\n",
              "      <th>keys</th>\n",
              "      <th>latitude</th>\n",
              "      <th>longitude</th>\n",
              "      <th>name</th>\n",
              "      <th>postalCode</th>\n",
              "      <th>province</th>\n",
              "      <th>websites</th>\n",
              "    </tr>\n",
              "  </thead>\n",
              "  <tbody>\n",
              "    <tr>\n",
              "      <th>0</th>\n",
              "      <td>False</td>\n",
              "      <td>False</td>\n",
              "      <td>False</td>\n",
              "      <td>False</td>\n",
              "      <td>False</td>\n",
              "      <td>False</td>\n",
              "      <td>False</td>\n",
              "      <td>False</td>\n",
              "      <td>False</td>\n",
              "      <td>False</td>\n",
              "    </tr>\n",
              "    <tr>\n",
              "      <th>1</th>\n",
              "      <td>False</td>\n",
              "      <td>False</td>\n",
              "      <td>False</td>\n",
              "      <td>False</td>\n",
              "      <td>False</td>\n",
              "      <td>False</td>\n",
              "      <td>False</td>\n",
              "      <td>False</td>\n",
              "      <td>False</td>\n",
              "      <td>False</td>\n",
              "    </tr>\n",
              "    <tr>\n",
              "      <th>2</th>\n",
              "      <td>False</td>\n",
              "      <td>False</td>\n",
              "      <td>False</td>\n",
              "      <td>False</td>\n",
              "      <td>False</td>\n",
              "      <td>False</td>\n",
              "      <td>False</td>\n",
              "      <td>False</td>\n",
              "      <td>False</td>\n",
              "      <td>False</td>\n",
              "    </tr>\n",
              "    <tr>\n",
              "      <th>3</th>\n",
              "      <td>False</td>\n",
              "      <td>False</td>\n",
              "      <td>False</td>\n",
              "      <td>False</td>\n",
              "      <td>False</td>\n",
              "      <td>False</td>\n",
              "      <td>False</td>\n",
              "      <td>False</td>\n",
              "      <td>False</td>\n",
              "      <td>False</td>\n",
              "    </tr>\n",
              "    <tr>\n",
              "      <th>4</th>\n",
              "      <td>False</td>\n",
              "      <td>False</td>\n",
              "      <td>False</td>\n",
              "      <td>False</td>\n",
              "      <td>False</td>\n",
              "      <td>False</td>\n",
              "      <td>False</td>\n",
              "      <td>False</td>\n",
              "      <td>False</td>\n",
              "      <td>False</td>\n",
              "    </tr>\n",
              "    <tr>\n",
              "      <th>...</th>\n",
              "      <td>...</td>\n",
              "      <td>...</td>\n",
              "      <td>...</td>\n",
              "      <td>...</td>\n",
              "      <td>...</td>\n",
              "      <td>...</td>\n",
              "      <td>...</td>\n",
              "      <td>...</td>\n",
              "      <td>...</td>\n",
              "      <td>...</td>\n",
              "    </tr>\n",
              "    <tr>\n",
              "      <th>9995</th>\n",
              "      <td>False</td>\n",
              "      <td>False</td>\n",
              "      <td>False</td>\n",
              "      <td>False</td>\n",
              "      <td>False</td>\n",
              "      <td>False</td>\n",
              "      <td>False</td>\n",
              "      <td>False</td>\n",
              "      <td>False</td>\n",
              "      <td>False</td>\n",
              "    </tr>\n",
              "    <tr>\n",
              "      <th>9996</th>\n",
              "      <td>False</td>\n",
              "      <td>False</td>\n",
              "      <td>False</td>\n",
              "      <td>False</td>\n",
              "      <td>False</td>\n",
              "      <td>False</td>\n",
              "      <td>False</td>\n",
              "      <td>False</td>\n",
              "      <td>False</td>\n",
              "      <td>False</td>\n",
              "    </tr>\n",
              "    <tr>\n",
              "      <th>9997</th>\n",
              "      <td>False</td>\n",
              "      <td>False</td>\n",
              "      <td>False</td>\n",
              "      <td>False</td>\n",
              "      <td>False</td>\n",
              "      <td>False</td>\n",
              "      <td>False</td>\n",
              "      <td>False</td>\n",
              "      <td>False</td>\n",
              "      <td>False</td>\n",
              "    </tr>\n",
              "    <tr>\n",
              "      <th>9998</th>\n",
              "      <td>False</td>\n",
              "      <td>False</td>\n",
              "      <td>False</td>\n",
              "      <td>False</td>\n",
              "      <td>False</td>\n",
              "      <td>False</td>\n",
              "      <td>False</td>\n",
              "      <td>False</td>\n",
              "      <td>False</td>\n",
              "      <td>False</td>\n",
              "    </tr>\n",
              "    <tr>\n",
              "      <th>9999</th>\n",
              "      <td>False</td>\n",
              "      <td>False</td>\n",
              "      <td>False</td>\n",
              "      <td>False</td>\n",
              "      <td>False</td>\n",
              "      <td>False</td>\n",
              "      <td>False</td>\n",
              "      <td>False</td>\n",
              "      <td>False</td>\n",
              "      <td>False</td>\n",
              "    </tr>\n",
              "  </tbody>\n",
              "</table>\n",
              "<p>10000 rows × 10 columns</p>\n",
              "</div>"
            ],
            "text/plain": [
              "      address   city  country   keys  ...   name  postalCode  province  websites\n",
              "0       False  False    False  False  ...  False       False     False     False\n",
              "1       False  False    False  False  ...  False       False     False     False\n",
              "2       False  False    False  False  ...  False       False     False     False\n",
              "3       False  False    False  False  ...  False       False     False     False\n",
              "4       False  False    False  False  ...  False       False     False     False\n",
              "...       ...    ...      ...    ...  ...    ...         ...       ...       ...\n",
              "9995    False  False    False  False  ...  False       False     False     False\n",
              "9996    False  False    False  False  ...  False       False     False     False\n",
              "9997    False  False    False  False  ...  False       False     False     False\n",
              "9998    False  False    False  False  ...  False       False     False     False\n",
              "9999    False  False    False  False  ...  False       False     False     False\n",
              "\n",
              "[10000 rows x 10 columns]"
            ]
          },
          "metadata": {},
          "execution_count": 8
        }
      ]
    },
    {
      "cell_type": "markdown",
      "metadata": {
        "id": "UbUyTYVW8BH0"
      },
      "source": [
        "Esta funcion nos arroja la misma base de datos pero llena de datos boleanos y estos nos indican donde estan las celdas vacias y en donde si hay datos."
      ]
    },
    {
      "cell_type": "code",
      "metadata": {
        "colab": {
          "base_uri": "https://localhost:8080/"
        },
        "id": "OpIYwlfT8BH1",
        "outputId": "aced5869-322a-4285-fbf2-7caa4bc5d223"
      },
      "source": [
        "food.isnull().sum()"
      ],
      "execution_count": null,
      "outputs": [
        {
          "output_type": "execute_result",
          "data": {
            "text/plain": [
              "address         0\n",
              "city            0\n",
              "country         0\n",
              "keys            0\n",
              "latitude        0\n",
              "longitude       0\n",
              "name            0\n",
              "postalCode      0\n",
              "province        0\n",
              "websites      465\n",
              "dtype: int64"
            ]
          },
          "metadata": {},
          "execution_count": 9
        }
      ]
    },
    {
      "cell_type": "markdown",
      "metadata": {
        "id": "2Zicb6BP8BH1"
      },
      "source": [
        "Esta funcion nos ayuda a saber cuantos datos nulos o celdas vacias hay en cada columna de nuestra base."
      ]
    },
    {
      "cell_type": "code",
      "metadata": {
        "id": "DQsNYyzR8BH2"
      },
      "source": [
        "del food [\"websites\"]"
      ],
      "execution_count": null,
      "outputs": []
    },
    {
      "cell_type": "markdown",
      "metadata": {
        "id": "xWDSuzPq8BH2"
      },
      "source": [
        "La función de arriba nos sirve para eliminar las columnas que no nos van a servir. La columna que seleccionamos no nos servira por que tiene muchos datos nulos."
      ]
    },
    {
      "cell_type": "code",
      "metadata": {
        "colab": {
          "base_uri": "https://localhost:8080/",
          "height": 762
        },
        "id": "oQ1S7TRw8BH8",
        "outputId": "3f8467c9-41de-48db-858d-984dff6423cf"
      },
      "source": [
        "#d)Clasificación de datos\n",
        "Mc_Donald = food[food['name']==\"McDonald's\"]\n",
        "\n",
        "Mc_Donald.to_csv('Solo_Mc_Donald.csv', index = False)\n",
        "Mc_Donald"
      ],
      "execution_count": null,
      "outputs": [
        {
          "output_type": "execute_result",
          "data": {
            "text/html": [
              "<div>\n",
              "<style scoped>\n",
              "    .dataframe tbody tr th:only-of-type {\n",
              "        vertical-align: middle;\n",
              "    }\n",
              "\n",
              "    .dataframe tbody tr th {\n",
              "        vertical-align: top;\n",
              "    }\n",
              "\n",
              "    .dataframe thead th {\n",
              "        text-align: right;\n",
              "    }\n",
              "</style>\n",
              "<table border=\"1\" class=\"dataframe\">\n",
              "  <thead>\n",
              "    <tr style=\"text-align: right;\">\n",
              "      <th></th>\n",
              "      <th>address</th>\n",
              "      <th>city</th>\n",
              "      <th>country</th>\n",
              "      <th>keys</th>\n",
              "      <th>latitude</th>\n",
              "      <th>longitude</th>\n",
              "      <th>name</th>\n",
              "      <th>postalCode</th>\n",
              "      <th>province</th>\n",
              "    </tr>\n",
              "  </thead>\n",
              "  <tbody>\n",
              "    <tr>\n",
              "      <th>0</th>\n",
              "      <td>324 Main St</td>\n",
              "      <td>Massena</td>\n",
              "      <td>US</td>\n",
              "      <td>us/ny/massena/324mainst/-1161002137</td>\n",
              "      <td>44.921300</td>\n",
              "      <td>-74.890210</td>\n",
              "      <td>McDonald's</td>\n",
              "      <td>13662</td>\n",
              "      <td>NY</td>\n",
              "    </tr>\n",
              "    <tr>\n",
              "      <th>3</th>\n",
              "      <td>6098 State Highway 37</td>\n",
              "      <td>Massena</td>\n",
              "      <td>US</td>\n",
              "      <td>us/ny/massena/6098statehighway37/-1161002137</td>\n",
              "      <td>44.950080</td>\n",
              "      <td>-74.845530</td>\n",
              "      <td>McDonald's</td>\n",
              "      <td>13662</td>\n",
              "      <td>NY</td>\n",
              "    </tr>\n",
              "    <tr>\n",
              "      <th>7</th>\n",
              "      <td>401 N Jennings St</td>\n",
              "      <td>Saluda</td>\n",
              "      <td>US</td>\n",
              "      <td>us/sc/saluda/401njenningsst/-1161002137</td>\n",
              "      <td>34.005980</td>\n",
              "      <td>-81.770400</td>\n",
              "      <td>McDonald's</td>\n",
              "      <td>29138</td>\n",
              "      <td>SC</td>\n",
              "    </tr>\n",
              "    <tr>\n",
              "      <th>12</th>\n",
              "      <td>1535 NW 50th St</td>\n",
              "      <td>Oklahoma City</td>\n",
              "      <td>US</td>\n",
              "      <td>us/ok/oklahomacity/1535nw50thst/-1161002137</td>\n",
              "      <td>35.522340</td>\n",
              "      <td>-97.538200</td>\n",
              "      <td>McDonald's</td>\n",
              "      <td>73118</td>\n",
              "      <td>OK</td>\n",
              "    </tr>\n",
              "    <tr>\n",
              "      <th>15</th>\n",
              "      <td>301 University Blvd</td>\n",
              "      <td>Louisville</td>\n",
              "      <td>US</td>\n",
              "      <td>us/ky/louisville/301universityblvd/-1161002137</td>\n",
              "      <td>38.219990</td>\n",
              "      <td>-85.764824</td>\n",
              "      <td>McDonald's</td>\n",
              "      <td>40208</td>\n",
              "      <td>KY</td>\n",
              "    </tr>\n",
              "    <tr>\n",
              "      <th>...</th>\n",
              "      <td>...</td>\n",
              "      <td>...</td>\n",
              "      <td>...</td>\n",
              "      <td>...</td>\n",
              "      <td>...</td>\n",
              "      <td>...</td>\n",
              "      <td>...</td>\n",
              "      <td>...</td>\n",
              "      <td>...</td>\n",
              "    </tr>\n",
              "    <tr>\n",
              "      <th>9962</th>\n",
              "      <td>13749 N Highway 183</td>\n",
              "      <td>Austin</td>\n",
              "      <td>US</td>\n",
              "      <td>us/tx/austin/13749nhighway183/-1161002137</td>\n",
              "      <td>30.459690</td>\n",
              "      <td>-97.793400</td>\n",
              "      <td>McDonald's</td>\n",
              "      <td>78750</td>\n",
              "      <td>TX</td>\n",
              "    </tr>\n",
              "    <tr>\n",
              "      <th>9967</th>\n",
              "      <td>12090 SW Main St</td>\n",
              "      <td>Portland</td>\n",
              "      <td>US</td>\n",
              "      <td>us/or/portland/12090swmainst/-1161002137</td>\n",
              "      <td>45.432288</td>\n",
              "      <td>-122.767828</td>\n",
              "      <td>McDonald's</td>\n",
              "      <td>97223</td>\n",
              "      <td>OR</td>\n",
              "    </tr>\n",
              "    <tr>\n",
              "      <th>9969</th>\n",
              "      <td>601 Aberdeen Rd</td>\n",
              "      <td>Hampton</td>\n",
              "      <td>US</td>\n",
              "      <td>us/va/hampton/601aberdeenrd/-1161002137</td>\n",
              "      <td>37.012490</td>\n",
              "      <td>-76.403590</td>\n",
              "      <td>McDonald's</td>\n",
              "      <td>23661</td>\n",
              "      <td>VA</td>\n",
              "    </tr>\n",
              "    <tr>\n",
              "      <th>9979</th>\n",
              "      <td>50 New Orleans Rd</td>\n",
              "      <td>Hilton Head Island</td>\n",
              "      <td>US</td>\n",
              "      <td>us/sc/hiltonheadisland/50neworleansrd/-1161002137</td>\n",
              "      <td>32.155760</td>\n",
              "      <td>-80.759810</td>\n",
              "      <td>McDonald's</td>\n",
              "      <td>29928</td>\n",
              "      <td>SC</td>\n",
              "    </tr>\n",
              "    <tr>\n",
              "      <th>9989</th>\n",
              "      <td>1120 S Haynes Ave</td>\n",
              "      <td>Miles City</td>\n",
              "      <td>US</td>\n",
              "      <td>us/mt/milescity/1120shaynesave/-1161002137</td>\n",
              "      <td>46.397680</td>\n",
              "      <td>-105.822520</td>\n",
              "      <td>McDonald's</td>\n",
              "      <td>59301</td>\n",
              "      <td>MT</td>\n",
              "    </tr>\n",
              "  </tbody>\n",
              "</table>\n",
              "<p>1886 rows × 9 columns</p>\n",
              "</div>"
            ],
            "text/plain": [
              "                    address                city  ... postalCode province\n",
              "0               324 Main St             Massena  ...      13662       NY\n",
              "3     6098 State Highway 37             Massena  ...      13662       NY\n",
              "7         401 N Jennings St              Saluda  ...      29138       SC\n",
              "12          1535 NW 50th St       Oklahoma City  ...      73118       OK\n",
              "15      301 University Blvd          Louisville  ...      40208       KY\n",
              "...                     ...                 ...  ...        ...      ...\n",
              "9962    13749 N Highway 183              Austin  ...      78750       TX\n",
              "9967       12090 SW Main St            Portland  ...      97223       OR\n",
              "9969        601 Aberdeen Rd             Hampton  ...      23661       VA\n",
              "9979      50 New Orleans Rd  Hilton Head Island  ...      29928       SC\n",
              "9989      1120 S Haynes Ave          Miles City  ...      59301       MT\n",
              "\n",
              "[1886 rows x 9 columns]"
            ]
          },
          "metadata": {},
          "execution_count": 11
        }
      ]
    },
    {
      "cell_type": "markdown",
      "metadata": {
        "id": "qpBxNUKi8BH-"
      },
      "source": [
        "Con este código clasificamos los datos para que solo nos muestre los Mc Donald de US."
      ]
    },
    {
      "cell_type": "code",
      "metadata": {
        "colab": {
          "base_uri": "https://localhost:8080/",
          "height": 796
        },
        "id": "QeEhZQjD8BH-",
        "outputId": "9d26f982-4405-4996-b3cd-23ef8f465756"
      },
      "source": [
        "Burger_King = food[food['name']==\"Burger King\"]\n",
        "\n",
        "Burger_King.to_csv('Solo_Burger_King.csv', index = False)\n",
        "Burger_King"
      ],
      "execution_count": null,
      "outputs": [
        {
          "output_type": "execute_result",
          "data": {
            "text/html": [
              "<div>\n",
              "<style scoped>\n",
              "    .dataframe tbody tr th:only-of-type {\n",
              "        vertical-align: middle;\n",
              "    }\n",
              "\n",
              "    .dataframe tbody tr th {\n",
              "        vertical-align: top;\n",
              "    }\n",
              "\n",
              "    .dataframe thead th {\n",
              "        text-align: right;\n",
              "    }\n",
              "</style>\n",
              "<table border=\"1\" class=\"dataframe\">\n",
              "  <thead>\n",
              "    <tr style=\"text-align: right;\">\n",
              "      <th></th>\n",
              "      <th>address</th>\n",
              "      <th>city</th>\n",
              "      <th>country</th>\n",
              "      <th>keys</th>\n",
              "      <th>latitude</th>\n",
              "      <th>longitude</th>\n",
              "      <th>name</th>\n",
              "      <th>postalCode</th>\n",
              "      <th>province</th>\n",
              "    </tr>\n",
              "  </thead>\n",
              "  <tbody>\n",
              "    <tr>\n",
              "      <th>40</th>\n",
              "      <td>982 Macon St</td>\n",
              "      <td>Warner Robins</td>\n",
              "      <td>US</td>\n",
              "      <td>us/ga/warnerrobins/982maconst/-2061630068</td>\n",
              "      <td>32.594950</td>\n",
              "      <td>-83.583380</td>\n",
              "      <td>Burger King</td>\n",
              "      <td>31098</td>\n",
              "      <td>GA</td>\n",
              "    </tr>\n",
              "    <tr>\n",
              "      <th>41</th>\n",
              "      <td>6060 San Mateo Blvd NE</td>\n",
              "      <td>Albuquerque</td>\n",
              "      <td>US</td>\n",
              "      <td>us/nm/albuquerque/6060sanmateoblvdne/-2061630068</td>\n",
              "      <td>35.144456</td>\n",
              "      <td>-106.585927</td>\n",
              "      <td>Burger King</td>\n",
              "      <td>87109</td>\n",
              "      <td>NM</td>\n",
              "    </tr>\n",
              "    <tr>\n",
              "      <th>46</th>\n",
              "      <td>18000 Bagley Rd</td>\n",
              "      <td>Cleveland</td>\n",
              "      <td>US</td>\n",
              "      <td>us/oh/cleveland/18000bagleyrd/-2061630068</td>\n",
              "      <td>41.373042</td>\n",
              "      <td>-81.826072</td>\n",
              "      <td>Burger King</td>\n",
              "      <td>44130</td>\n",
              "      <td>OH</td>\n",
              "    </tr>\n",
              "    <tr>\n",
              "      <th>63</th>\n",
              "      <td>225 Grant Ave</td>\n",
              "      <td>Auburn</td>\n",
              "      <td>US</td>\n",
              "      <td>us/ny/auburn/225grantave/-2061630068</td>\n",
              "      <td>42.949870</td>\n",
              "      <td>-76.547220</td>\n",
              "      <td>Burger King</td>\n",
              "      <td>13021</td>\n",
              "      <td>NY</td>\n",
              "    </tr>\n",
              "    <tr>\n",
              "      <th>75</th>\n",
              "      <td>Co-Op City</td>\n",
              "      <td>Bronx</td>\n",
              "      <td>US</td>\n",
              "      <td>us/ny/bronx/opcity/-2061630068</td>\n",
              "      <td>40.869100</td>\n",
              "      <td>-73.824800</td>\n",
              "      <td>Burger King</td>\n",
              "      <td>10475</td>\n",
              "      <td>NY</td>\n",
              "    </tr>\n",
              "    <tr>\n",
              "      <th>...</th>\n",
              "      <td>...</td>\n",
              "      <td>...</td>\n",
              "      <td>...</td>\n",
              "      <td>...</td>\n",
              "      <td>...</td>\n",
              "      <td>...</td>\n",
              "      <td>...</td>\n",
              "      <td>...</td>\n",
              "      <td>...</td>\n",
              "    </tr>\n",
              "    <tr>\n",
              "      <th>9950</th>\n",
              "      <td>700 B Dacula Rd</td>\n",
              "      <td>Dacula</td>\n",
              "      <td>US</td>\n",
              "      <td>us/ga/dacula/700bdaculard/-2061630068</td>\n",
              "      <td>34.001935</td>\n",
              "      <td>-83.911686</td>\n",
              "      <td>Burger King</td>\n",
              "      <td>30019</td>\n",
              "      <td>GA</td>\n",
              "    </tr>\n",
              "    <tr>\n",
              "      <th>9968</th>\n",
              "      <td>114 W Jasper St</td>\n",
              "      <td>Paris</td>\n",
              "      <td>US</td>\n",
              "      <td>us/il/paris/114wjasperst/-2061630068</td>\n",
              "      <td>39.603400</td>\n",
              "      <td>-87.695470</td>\n",
              "      <td>Burger King</td>\n",
              "      <td>61944</td>\n",
              "      <td>IL</td>\n",
              "    </tr>\n",
              "    <tr>\n",
              "      <th>9977</th>\n",
              "      <td>6201 Lapalco Blvd</td>\n",
              "      <td>Marrero</td>\n",
              "      <td>US</td>\n",
              "      <td>us/la/marrero/6201lapalcoblvd/-2061630068</td>\n",
              "      <td>29.875182</td>\n",
              "      <td>-90.114028</td>\n",
              "      <td>Burger King</td>\n",
              "      <td>70072</td>\n",
              "      <td>LA</td>\n",
              "    </tr>\n",
              "    <tr>\n",
              "      <th>9982</th>\n",
              "      <td>3020 E Sunshine St</td>\n",
              "      <td>Springfield</td>\n",
              "      <td>US</td>\n",
              "      <td>us/mo/springfield/3020esunshinest/-2061630068</td>\n",
              "      <td>37.180230</td>\n",
              "      <td>-93.234476</td>\n",
              "      <td>Burger King</td>\n",
              "      <td>65804</td>\n",
              "      <td>MO</td>\n",
              "    </tr>\n",
              "    <tr>\n",
              "      <th>9984</th>\n",
              "      <td>7100 Coastal Palms Blvd</td>\n",
              "      <td>Panama City</td>\n",
              "      <td>US</td>\n",
              "      <td>us/fl/panamacity/7100coastalpalmsblvd/-2061630068</td>\n",
              "      <td>30.175100</td>\n",
              "      <td>-85.760600</td>\n",
              "      <td>Burger King</td>\n",
              "      <td>32408</td>\n",
              "      <td>FL</td>\n",
              "    </tr>\n",
              "  </tbody>\n",
              "</table>\n",
              "<p>1154 rows × 9 columns</p>\n",
              "</div>"
            ],
            "text/plain": [
              "                      address           city  ... postalCode province\n",
              "40               982 Macon St  Warner Robins  ...      31098       GA\n",
              "41     6060 San Mateo Blvd NE    Albuquerque  ...      87109       NM\n",
              "46            18000 Bagley Rd      Cleveland  ...      44130       OH\n",
              "63              225 Grant Ave         Auburn  ...      13021       NY\n",
              "75                 Co-Op City          Bronx  ...      10475       NY\n",
              "...                       ...            ...  ...        ...      ...\n",
              "9950          700 B Dacula Rd         Dacula  ...      30019       GA\n",
              "9968          114 W Jasper St          Paris  ...      61944       IL\n",
              "9977        6201 Lapalco Blvd        Marrero  ...      70072       LA\n",
              "9982       3020 E Sunshine St    Springfield  ...      65804       MO\n",
              "9984  7100 Coastal Palms Blvd    Panama City  ...      32408       FL\n",
              "\n",
              "[1154 rows x 9 columns]"
            ]
          },
          "metadata": {},
          "execution_count": 12
        }
      ]
    },
    {
      "cell_type": "markdown",
      "metadata": {
        "id": "B_a9RBW58BH_"
      },
      "source": [
        "Con este código clasificamos los datos para que solo nos muestre los Burger King de US."
      ]
    },
    {
      "cell_type": "markdown",
      "metadata": {
        "id": "jysg9-rI8BIA"
      },
      "source": [
        "**¿Para que me puede servir estas agrupaciones para la práctica siguiente?**\n",
        "Esta agrupacion nos sirve para saber donde se encuentran la mayor parte de restaurantes de comida rapida en US."
      ]
    },
    {
      "cell_type": "code",
      "metadata": {
        "colab": {
          "base_uri": "https://localhost:8080/",
          "height": 796
        },
        "id": "XBEERRjh8BIB",
        "outputId": "b3329c1d-f648-45e4-cb0a-3974b3a090f1"
      },
      "source": [
        "#e)Cambiar nombres de la columnas\n",
        "food.rename(columns = {'postalCode':'Id_Postal'})"
      ],
      "execution_count": null,
      "outputs": [
        {
          "output_type": "execute_result",
          "data": {
            "text/html": [
              "<div>\n",
              "<style scoped>\n",
              "    .dataframe tbody tr th:only-of-type {\n",
              "        vertical-align: middle;\n",
              "    }\n",
              "\n",
              "    .dataframe tbody tr th {\n",
              "        vertical-align: top;\n",
              "    }\n",
              "\n",
              "    .dataframe thead th {\n",
              "        text-align: right;\n",
              "    }\n",
              "</style>\n",
              "<table border=\"1\" class=\"dataframe\">\n",
              "  <thead>\n",
              "    <tr style=\"text-align: right;\">\n",
              "      <th></th>\n",
              "      <th>address</th>\n",
              "      <th>city</th>\n",
              "      <th>country</th>\n",
              "      <th>keys</th>\n",
              "      <th>latitude</th>\n",
              "      <th>longitude</th>\n",
              "      <th>name</th>\n",
              "      <th>Id_Postal</th>\n",
              "      <th>province</th>\n",
              "    </tr>\n",
              "  </thead>\n",
              "  <tbody>\n",
              "    <tr>\n",
              "      <th>0</th>\n",
              "      <td>324 Main St</td>\n",
              "      <td>Massena</td>\n",
              "      <td>US</td>\n",
              "      <td>us/ny/massena/324mainst/-1161002137</td>\n",
              "      <td>44.921300</td>\n",
              "      <td>-74.890210</td>\n",
              "      <td>McDonald's</td>\n",
              "      <td>13662</td>\n",
              "      <td>NY</td>\n",
              "    </tr>\n",
              "    <tr>\n",
              "      <th>1</th>\n",
              "      <td>530 Clinton Ave</td>\n",
              "      <td>Washington Court House</td>\n",
              "      <td>US</td>\n",
              "      <td>us/oh/washingtoncourthouse/530clintonave/-7914...</td>\n",
              "      <td>39.532550</td>\n",
              "      <td>-83.445260</td>\n",
              "      <td>Wendy's</td>\n",
              "      <td>43160</td>\n",
              "      <td>OH</td>\n",
              "    </tr>\n",
              "    <tr>\n",
              "      <th>2</th>\n",
              "      <td>408 Market Square Dr</td>\n",
              "      <td>Maysville</td>\n",
              "      <td>US</td>\n",
              "      <td>us/ky/maysville/408marketsquaredr/1051460804</td>\n",
              "      <td>38.627360</td>\n",
              "      <td>-83.791410</td>\n",
              "      <td>Frisch's Big Boy</td>\n",
              "      <td>41056</td>\n",
              "      <td>KY</td>\n",
              "    </tr>\n",
              "    <tr>\n",
              "      <th>3</th>\n",
              "      <td>6098 State Highway 37</td>\n",
              "      <td>Massena</td>\n",
              "      <td>US</td>\n",
              "      <td>us/ny/massena/6098statehighway37/-1161002137</td>\n",
              "      <td>44.950080</td>\n",
              "      <td>-74.845530</td>\n",
              "      <td>McDonald's</td>\n",
              "      <td>13662</td>\n",
              "      <td>NY</td>\n",
              "    </tr>\n",
              "    <tr>\n",
              "      <th>4</th>\n",
              "      <td>139 Columbus Rd</td>\n",
              "      <td>Athens</td>\n",
              "      <td>US</td>\n",
              "      <td>us/oh/athens/139columbusrd/990890980</td>\n",
              "      <td>39.351550</td>\n",
              "      <td>-82.097280</td>\n",
              "      <td>OMG! Rotisserie</td>\n",
              "      <td>45701</td>\n",
              "      <td>OH</td>\n",
              "    </tr>\n",
              "    <tr>\n",
              "      <th>...</th>\n",
              "      <td>...</td>\n",
              "      <td>...</td>\n",
              "      <td>...</td>\n",
              "      <td>...</td>\n",
              "      <td>...</td>\n",
              "      <td>...</td>\n",
              "      <td>...</td>\n",
              "      <td>...</td>\n",
              "      <td>...</td>\n",
              "    </tr>\n",
              "    <tr>\n",
              "      <th>9995</th>\n",
              "      <td>3013 Peach Orchard Rd</td>\n",
              "      <td>Augusta</td>\n",
              "      <td>US</td>\n",
              "      <td>us/ga/augusta/3013peachorchardrd/-791445730</td>\n",
              "      <td>33.415257</td>\n",
              "      <td>-82.024531</td>\n",
              "      <td>Wendy's</td>\n",
              "      <td>30906</td>\n",
              "      <td>GA</td>\n",
              "    </tr>\n",
              "    <tr>\n",
              "      <th>9996</th>\n",
              "      <td>678 Northwest Hwy</td>\n",
              "      <td>Cary</td>\n",
              "      <td>US</td>\n",
              "      <td>us/il/cary/678northwesthwy/787691191</td>\n",
              "      <td>42.217300</td>\n",
              "      <td>-88.255800</td>\n",
              "      <td>Lee's Oriental Martial Arts</td>\n",
              "      <td>60013</td>\n",
              "      <td>IL</td>\n",
              "    </tr>\n",
              "    <tr>\n",
              "      <th>9997</th>\n",
              "      <td>1708 Main St</td>\n",
              "      <td>Longmont</td>\n",
              "      <td>US</td>\n",
              "      <td>us/co/longmont/1708mainst/-448666054</td>\n",
              "      <td>40.189190</td>\n",
              "      <td>-105.101720</td>\n",
              "      <td>Five Guys</td>\n",
              "      <td>80501</td>\n",
              "      <td>CO</td>\n",
              "    </tr>\n",
              "    <tr>\n",
              "      <th>9998</th>\n",
              "      <td>67740 Highway 111</td>\n",
              "      <td>Cathedral City</td>\n",
              "      <td>US</td>\n",
              "      <td>us/ca/cathedralcity/67740highway111/-981164808</td>\n",
              "      <td>33.788640</td>\n",
              "      <td>-116.482150</td>\n",
              "      <td>El Pollo Loco</td>\n",
              "      <td>92234</td>\n",
              "      <td>CA</td>\n",
              "    </tr>\n",
              "    <tr>\n",
              "      <th>9999</th>\n",
              "      <td>5701 E La Palma Ave</td>\n",
              "      <td>Anaheim</td>\n",
              "      <td>US</td>\n",
              "      <td>us/ca/anaheim/5701elapalmaave/554191587</td>\n",
              "      <td>33.860074</td>\n",
              "      <td>-117.789762</td>\n",
              "      <td>Carl's Jr.</td>\n",
              "      <td>92807</td>\n",
              "      <td>CA</td>\n",
              "    </tr>\n",
              "  </tbody>\n",
              "</table>\n",
              "<p>10000 rows × 9 columns</p>\n",
              "</div>"
            ],
            "text/plain": [
              "                    address                    city  ... Id_Postal province\n",
              "0               324 Main St                 Massena  ...     13662       NY\n",
              "1           530 Clinton Ave  Washington Court House  ...     43160       OH\n",
              "2      408 Market Square Dr               Maysville  ...     41056       KY\n",
              "3     6098 State Highway 37                 Massena  ...     13662       NY\n",
              "4           139 Columbus Rd                  Athens  ...     45701       OH\n",
              "...                     ...                     ...  ...       ...      ...\n",
              "9995  3013 Peach Orchard Rd                 Augusta  ...     30906       GA\n",
              "9996      678 Northwest Hwy                    Cary  ...     60013       IL\n",
              "9997           1708 Main St                Longmont  ...     80501       CO\n",
              "9998      67740 Highway 111          Cathedral City  ...     92234       CA\n",
              "9999    5701 E La Palma Ave                 Anaheim  ...     92807       CA\n",
              "\n",
              "[10000 rows x 9 columns]"
            ]
          },
          "metadata": {},
          "execution_count": 13
        }
      ]
    },
    {
      "cell_type": "markdown",
      "metadata": {
        "id": "e2G7Qcrp8BIB"
      },
      "source": [
        "Con esta funcion podemos cambiar el nombre de cualquier columna."
      ]
    },
    {
      "cell_type": "code",
      "metadata": {
        "colab": {
          "base_uri": "https://localhost:8080/"
        },
        "id": "idDlXETJ8BIC",
        "outputId": "e525ce47-a4fa-469e-a527-8ed3c06ef4db"
      },
      "source": [
        "#f)Guardar archivos en agrupaciones\n",
        "food.city.unique()"
      ],
      "execution_count": null,
      "outputs": [
        {
          "output_type": "execute_result",
          "data": {
            "text/plain": [
              "array(['Massena', 'Washington Court House', 'Maysville', ..., 'Chatham',\n",
              "       'Miles City', 'East Chicago'], dtype=object)"
            ]
          },
          "metadata": {},
          "execution_count": 14
        }
      ]
    },
    {
      "cell_type": "markdown",
      "metadata": {
        "id": "npobh1er8BID"
      },
      "source": [
        "Esta funcion nos da los valores unicos de cierta columna y asi podremos agruparlos por categorias."
      ]
    },
    {
      "cell_type": "code",
      "metadata": {
        "colab": {
          "base_uri": "https://localhost:8080/",
          "height": 694
        },
        "id": "pdoxrrvu8BID",
        "outputId": "d15d5135-1824-4622-ac76-8de18265960d"
      },
      "source": [
        "Cincinnati = food[food['city']=='Cincinnati']\n",
        "\n",
        "Cincinnati.to_csv('Solo_Cincinnati.csv', index=False)\n",
        "Cincinnati"
      ],
      "execution_count": null,
      "outputs": [
        {
          "output_type": "execute_result",
          "data": {
            "text/html": [
              "<div>\n",
              "<style scoped>\n",
              "    .dataframe tbody tr th:only-of-type {\n",
              "        vertical-align: middle;\n",
              "    }\n",
              "\n",
              "    .dataframe tbody tr th {\n",
              "        vertical-align: top;\n",
              "    }\n",
              "\n",
              "    .dataframe thead th {\n",
              "        text-align: right;\n",
              "    }\n",
              "</style>\n",
              "<table border=\"1\" class=\"dataframe\">\n",
              "  <thead>\n",
              "    <tr style=\"text-align: right;\">\n",
              "      <th></th>\n",
              "      <th>address</th>\n",
              "      <th>city</th>\n",
              "      <th>country</th>\n",
              "      <th>keys</th>\n",
              "      <th>latitude</th>\n",
              "      <th>longitude</th>\n",
              "      <th>name</th>\n",
              "      <th>postalCode</th>\n",
              "      <th>province</th>\n",
              "    </tr>\n",
              "  </thead>\n",
              "  <tbody>\n",
              "    <tr>\n",
              "      <th>101</th>\n",
              "      <td>3515 Springdale Rd</td>\n",
              "      <td>Cincinnati</td>\n",
              "      <td>US</td>\n",
              "      <td>us/oh/cincinnati/3515springdalerd/-1055723171</td>\n",
              "      <td>39.250090</td>\n",
              "      <td>-84.594110</td>\n",
              "      <td>Domino's Pizza</td>\n",
              "      <td>45251</td>\n",
              "      <td>OH</td>\n",
              "    </tr>\n",
              "    <tr>\n",
              "      <th>102</th>\n",
              "      <td>7720 Laurel Ave</td>\n",
              "      <td>Cincinnati</td>\n",
              "      <td>US</td>\n",
              "      <td>us/oh/cincinnati/7720laurelave/-1055723171</td>\n",
              "      <td>39.189850</td>\n",
              "      <td>-84.362070</td>\n",
              "      <td>Domino's Pizza</td>\n",
              "      <td>45243</td>\n",
              "      <td>OH</td>\n",
              "    </tr>\n",
              "    <tr>\n",
              "      <th>813</th>\n",
              "      <td>11575 Springfield Pike</td>\n",
              "      <td>Cincinnati</td>\n",
              "      <td>US</td>\n",
              "      <td>us/oh/cincinnati/11575springfieldpike/-477036959</td>\n",
              "      <td>39.286300</td>\n",
              "      <td>-84.485600</td>\n",
              "      <td>White Castle</td>\n",
              "      <td>45246</td>\n",
              "      <td>OH</td>\n",
              "    </tr>\n",
              "    <tr>\n",
              "      <th>814</th>\n",
              "      <td>400 Northland Blvd</td>\n",
              "      <td>Cincinnati</td>\n",
              "      <td>US</td>\n",
              "      <td>us/oh/cincinnati/400northlandblvd/-791445730</td>\n",
              "      <td>39.282410</td>\n",
              "      <td>-84.485900</td>\n",
              "      <td>Wendy's</td>\n",
              "      <td>45240</td>\n",
              "      <td>OH</td>\n",
              "    </tr>\n",
              "    <tr>\n",
              "      <th>815</th>\n",
              "      <td>11960 Lebanon Rd</td>\n",
              "      <td>Cincinnati</td>\n",
              "      <td>US</td>\n",
              "      <td>us/oh/cincinnati/11960lebanonrd/-791445730</td>\n",
              "      <td>39.291910</td>\n",
              "      <td>-84.394030</td>\n",
              "      <td>Wendy's</td>\n",
              "      <td>45241</td>\n",
              "      <td>OH</td>\n",
              "    </tr>\n",
              "    <tr>\n",
              "      <th>...</th>\n",
              "      <td>...</td>\n",
              "      <td>...</td>\n",
              "      <td>...</td>\n",
              "      <td>...</td>\n",
              "      <td>...</td>\n",
              "      <td>...</td>\n",
              "      <td>...</td>\n",
              "      <td>...</td>\n",
              "      <td>...</td>\n",
              "    </tr>\n",
              "    <tr>\n",
              "      <th>7164</th>\n",
              "      <td>2692 Madison Rd</td>\n",
              "      <td>Cincinnati</td>\n",
              "      <td>US</td>\n",
              "      <td>us/oh/cincinnati/2692madisonrd/-230200247</td>\n",
              "      <td>39.145090</td>\n",
              "      <td>-84.443460</td>\n",
              "      <td>Boston Market</td>\n",
              "      <td>45208</td>\n",
              "      <td>OH</td>\n",
              "    </tr>\n",
              "    <tr>\n",
              "      <th>8033</th>\n",
              "      <td>4911 Vine St</td>\n",
              "      <td>Cincinnati</td>\n",
              "      <td>US</td>\n",
              "      <td>us/oh/cincinnati/4911vinest/169409967</td>\n",
              "      <td>39.169345</td>\n",
              "      <td>-84.498274</td>\n",
              "      <td>Gold Star Chili</td>\n",
              "      <td>45217</td>\n",
              "      <td>OH</td>\n",
              "    </tr>\n",
              "    <tr>\n",
              "      <th>8896</th>\n",
              "      <td>4810 Spring Grove Ave</td>\n",
              "      <td>Cincinnati</td>\n",
              "      <td>US</td>\n",
              "      <td>us/oh/cincinnati/4810springgroveave/-1568148077</td>\n",
              "      <td>39.166594</td>\n",
              "      <td>-84.513027</td>\n",
              "      <td>Rally's Hamburgers</td>\n",
              "      <td>45232</td>\n",
              "      <td>OH</td>\n",
              "    </tr>\n",
              "    <tr>\n",
              "      <th>9055</th>\n",
              "      <td>4432 Montgomery Rd</td>\n",
              "      <td>Cincinnati</td>\n",
              "      <td>US</td>\n",
              "      <td>us/oh/cincinnati/4432montgomeryrd/-66712705</td>\n",
              "      <td>39.157610</td>\n",
              "      <td>-84.457980</td>\n",
              "      <td>Pizza Hut</td>\n",
              "      <td>45212</td>\n",
              "      <td>OH</td>\n",
              "    </tr>\n",
              "    <tr>\n",
              "      <th>9838</th>\n",
              "      <td>1600 Walnut St</td>\n",
              "      <td>Cincinnati</td>\n",
              "      <td>US</td>\n",
              "      <td>us/oh/cincinnati/1600walnutst/657082779</td>\n",
              "      <td>39.112770</td>\n",
              "      <td>-84.514270</td>\n",
              "      <td>Tina's Carryout Restaurant</td>\n",
              "      <td>45202</td>\n",
              "      <td>OH</td>\n",
              "    </tr>\n",
              "  </tbody>\n",
              "</table>\n",
              "<p>119 rows × 9 columns</p>\n",
              "</div>"
            ],
            "text/plain": [
              "                     address        city  ... postalCode province\n",
              "101       3515 Springdale Rd  Cincinnati  ...      45251       OH\n",
              "102          7720 Laurel Ave  Cincinnati  ...      45243       OH\n",
              "813   11575 Springfield Pike  Cincinnati  ...      45246       OH\n",
              "814       400 Northland Blvd  Cincinnati  ...      45240       OH\n",
              "815         11960 Lebanon Rd  Cincinnati  ...      45241       OH\n",
              "...                      ...         ...  ...        ...      ...\n",
              "7164         2692 Madison Rd  Cincinnati  ...      45208       OH\n",
              "8033            4911 Vine St  Cincinnati  ...      45217       OH\n",
              "8896   4810 Spring Grove Ave  Cincinnati  ...      45232       OH\n",
              "9055      4432 Montgomery Rd  Cincinnati  ...      45212       OH\n",
              "9838          1600 Walnut St  Cincinnati  ...      45202       OH\n",
              "\n",
              "[119 rows x 9 columns]"
            ]
          },
          "metadata": {},
          "execution_count": 15
        }
      ]
    },
    {
      "cell_type": "markdown",
      "metadata": {
        "id": "iSrQth358BIE"
      },
      "source": [
        "Con esta funcion estamos agrupando todos los datos que en la columna \"city\" tiene asignada la ciudad de \"Cincinnati\". Tambien nos muestra cuantas filas tenemos en nuestra nueva base."
      ]
    },
    {
      "cell_type": "code",
      "metadata": {
        "colab": {
          "base_uri": "https://localhost:8080/",
          "height": 728
        },
        "id": "Td7ANzsm8BIE",
        "outputId": "c4f648f1-ac34-4e78-c454-b36aee4fb1e0"
      },
      "source": [
        "Las_Vegas= food[food['city']=='Las Vegas']\n",
        "\n",
        "Las_Vegas.to_csv('Solo_Las_Vegas.csv', index=False)\n",
        "Las_Vegas"
      ],
      "execution_count": null,
      "outputs": [
        {
          "output_type": "execute_result",
          "data": {
            "text/html": [
              "<div>\n",
              "<style scoped>\n",
              "    .dataframe tbody tr th:only-of-type {\n",
              "        vertical-align: middle;\n",
              "    }\n",
              "\n",
              "    .dataframe tbody tr th {\n",
              "        vertical-align: top;\n",
              "    }\n",
              "\n",
              "    .dataframe thead th {\n",
              "        text-align: right;\n",
              "    }\n",
              "</style>\n",
              "<table border=\"1\" class=\"dataframe\">\n",
              "  <thead>\n",
              "    <tr style=\"text-align: right;\">\n",
              "      <th></th>\n",
              "      <th>address</th>\n",
              "      <th>city</th>\n",
              "      <th>country</th>\n",
              "      <th>keys</th>\n",
              "      <th>latitude</th>\n",
              "      <th>longitude</th>\n",
              "      <th>name</th>\n",
              "      <th>postalCode</th>\n",
              "      <th>province</th>\n",
              "    </tr>\n",
              "  </thead>\n",
              "  <tbody>\n",
              "    <tr>\n",
              "      <th>183</th>\n",
              "      <td>1501 7th St</td>\n",
              "      <td>Las Vegas</td>\n",
              "      <td>US</td>\n",
              "      <td>us/nm/lasvegas/15017thst/-1161002137</td>\n",
              "      <td>35.605690</td>\n",
              "      <td>-105.223630</td>\n",
              "      <td>McDonald's</td>\n",
              "      <td>87701</td>\n",
              "      <td>NM</td>\n",
              "    </tr>\n",
              "    <tr>\n",
              "      <th>1327</th>\n",
              "      <td>6375 S Pecos Rd</td>\n",
              "      <td>Las Vegas</td>\n",
              "      <td>US</td>\n",
              "      <td>us/nv/lasvegas/6375specosrd/-1055723171</td>\n",
              "      <td>36.074010</td>\n",
              "      <td>-115.101580</td>\n",
              "      <td>Dominos Pizza</td>\n",
              "      <td>89120</td>\n",
              "      <td>NV</td>\n",
              "    </tr>\n",
              "    <tr>\n",
              "      <th>2481</th>\n",
              "      <td>8050 Dean Martin Drive</td>\n",
              "      <td>Las Vegas</td>\n",
              "      <td>US</td>\n",
              "      <td>us/nv/lasvegas/8050deanmartindrive/-863563290</td>\n",
              "      <td>36.043400</td>\n",
              "      <td>-115.187200</td>\n",
              "      <td>Taco Time</td>\n",
              "      <td>89139</td>\n",
              "      <td>NV</td>\n",
              "    </tr>\n",
              "    <tr>\n",
              "      <th>3375</th>\n",
              "      <td>4604 W Sahara Ave Ste 1</td>\n",
              "      <td>Las Vegas</td>\n",
              "      <td>US</td>\n",
              "      <td>us/nv/lasvegas/4604wsaharaaveste1/-1055723171</td>\n",
              "      <td>36.144900</td>\n",
              "      <td>-115.204800</td>\n",
              "      <td>Domino's Pizza</td>\n",
              "      <td>89102</td>\n",
              "      <td>NV</td>\n",
              "    </tr>\n",
              "    <tr>\n",
              "      <th>4020</th>\n",
              "      <td>1335 Grand Ave</td>\n",
              "      <td>Las Vegas</td>\n",
              "      <td>US</td>\n",
              "      <td>us/nm/lasvegas/1335grandave/-2061630068</td>\n",
              "      <td>35.606100</td>\n",
              "      <td>-105.211330</td>\n",
              "      <td>Burger King</td>\n",
              "      <td>87701</td>\n",
              "      <td>NM</td>\n",
              "    </tr>\n",
              "    <tr>\n",
              "      <th>...</th>\n",
              "      <td>...</td>\n",
              "      <td>...</td>\n",
              "      <td>...</td>\n",
              "      <td>...</td>\n",
              "      <td>...</td>\n",
              "      <td>...</td>\n",
              "      <td>...</td>\n",
              "      <td>...</td>\n",
              "      <td>...</td>\n",
              "    </tr>\n",
              "    <tr>\n",
              "      <th>9651</th>\n",
              "      <td>7530 W Washington Ave</td>\n",
              "      <td>Las Vegas</td>\n",
              "      <td>US</td>\n",
              "      <td>us/nv/lasvegas/7530wwashingtonave/-1161002137</td>\n",
              "      <td>36.181761</td>\n",
              "      <td>-115.256432</td>\n",
              "      <td>McDonald's</td>\n",
              "      <td>89128</td>\n",
              "      <td>NV</td>\n",
              "    </tr>\n",
              "    <tr>\n",
              "      <th>9738</th>\n",
              "      <td>3850 Las Vegas Blvd S</td>\n",
              "      <td>Las Vegas</td>\n",
              "      <td>US</td>\n",
              "      <td>us/nv/lasvegas/3850lasvegasblvds/-1721138121</td>\n",
              "      <td>36.098907</td>\n",
              "      <td>-115.175560</td>\n",
              "      <td>Dairy Queen</td>\n",
              "      <td>89109</td>\n",
              "      <td>NV</td>\n",
              "    </tr>\n",
              "    <tr>\n",
              "      <th>9741</th>\n",
              "      <td>5795 S Eastern Ave</td>\n",
              "      <td>Las Vegas</td>\n",
              "      <td>US</td>\n",
              "      <td>us/nv/lasvegas/5795seasternave/554191587</td>\n",
              "      <td>36.084460</td>\n",
              "      <td>-115.118790</td>\n",
              "      <td>Carl's Jr.</td>\n",
              "      <td>89119</td>\n",
              "      <td>NV</td>\n",
              "    </tr>\n",
              "    <tr>\n",
              "      <th>9795</th>\n",
              "      <td>1040 E Flamingo Rd</td>\n",
              "      <td>Las Vegas</td>\n",
              "      <td>US</td>\n",
              "      <td>us/nv/lasvegas/1040eflamingord/-891525969</td>\n",
              "      <td>36.114690</td>\n",
              "      <td>-115.141520</td>\n",
              "      <td>SUBWAY</td>\n",
              "      <td>89119</td>\n",
              "      <td>NV</td>\n",
              "    </tr>\n",
              "    <tr>\n",
              "      <th>9796</th>\n",
              "      <td>6150 Las Vegas Blvd S</td>\n",
              "      <td>Las Vegas</td>\n",
              "      <td>US</td>\n",
              "      <td>us/nv/lasvegas/6150lasvegasblvds/-230519289</td>\n",
              "      <td>36.074480</td>\n",
              "      <td>-115.172760</td>\n",
              "      <td>Jack in the Box</td>\n",
              "      <td>89119</td>\n",
              "      <td>NV</td>\n",
              "    </tr>\n",
              "  </tbody>\n",
              "</table>\n",
              "<p>72 rows × 9 columns</p>\n",
              "</div>"
            ],
            "text/plain": [
              "                      address       city  ... postalCode province\n",
              "183               1501 7th St  Las Vegas  ...      87701       NM\n",
              "1327          6375 S Pecos Rd  Las Vegas  ...      89120       NV\n",
              "2481   8050 Dean Martin Drive  Las Vegas  ...      89139       NV\n",
              "3375  4604 W Sahara Ave Ste 1  Las Vegas  ...      89102       NV\n",
              "4020           1335 Grand Ave  Las Vegas  ...      87701       NM\n",
              "...                       ...        ...  ...        ...      ...\n",
              "9651    7530 W Washington Ave  Las Vegas  ...      89128       NV\n",
              "9738    3850 Las Vegas Blvd S  Las Vegas  ...      89109       NV\n",
              "9741       5795 S Eastern Ave  Las Vegas  ...      89119       NV\n",
              "9795       1040 E Flamingo Rd  Las Vegas  ...      89119       NV\n",
              "9796    6150 Las Vegas Blvd S  Las Vegas  ...      89119       NV\n",
              "\n",
              "[72 rows x 9 columns]"
            ]
          },
          "metadata": {},
          "execution_count": 18
        }
      ]
    },
    {
      "cell_type": "markdown",
      "metadata": {
        "id": "d7lBWWfT8BIF"
      },
      "source": [
        "Con esta funcion estamos agrupando todos los datos que en la columna \"city\" tiene asignada la ciudad de \"Las Vegas\". Tambien nos muestra cuantas filas tenemos en nuestra nueva base."
      ]
    }
  ]
}